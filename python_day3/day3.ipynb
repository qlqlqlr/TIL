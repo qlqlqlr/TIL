{
 "cells": [
  {
   "cell_type": "code",
   "execution_count": 3,
   "metadata": {},
   "outputs": [
    {
     "name": "stdout",
     "output_type": "stream",
     "text": [
      "3\n",
      "7\n"
     ]
    }
   ],
   "source": [
    "# 3일차\n",
    "\n",
    "array = [\n",
    "    [1, 2, 3], \n",
    "    [4, 5, 6], \n",
    "    [7, 8, 9]\n",
    "]\n",
    "\n",
    "#1. 인덱싱 하여 3을 출력해 보세요.\n",
    "print(array[0][2])\n",
    "\n",
    "#2. 인덱싱 하여 7을 출력해 보세요.\n",
    "print(array[2][0])"
   ]
  },
  {
   "cell_type": "code",
   "execution_count": 4,
   "metadata": {},
   "outputs": [
    {
     "name": "stdout",
     "output_type": "stream",
     "text": [
      "[1, 2, 3]\n",
      "[4, 5, 6]\n",
      "[7, 8, 9]\n"
     ]
    }
   ],
   "source": [
    "#2차원 리스트를 입력받는 방법\n",
    "\n",
    "rows = int(input(\"행의 개수를 입력하세요\"))\n",
    "matrix = []\n",
    "\n",
    "for i in range(rows):\n",
    "    row = list(map(int, input().split()))\n",
    "    matrix.append(row)      # append 는 '리스트에 추가'\n",
    "\n",
    "for row in matrix:\n",
    "    print(row)"
   ]
  },
  {
   "cell_type": "code",
   "execution_count": null,
   "metadata": {},
   "outputs": [],
   "source": [
    "# 튜플을 사용하는 예시\n",
    "\n",
    "def move_around(position):\n",
    "    x, y = position\n",
    "    directions = [(0, 1), (0, -1), (1, 0), (-1, 0)]      # 우, 좌, 상, 하\n",
    "    direntions_2 = [(1,1), (1, -1), (-1, 1), (-1, -1)]   # 우하, 좌하, 우상, 좌상\n",
    "\n"
   ]
  },
  {
   "cell_type": "code",
   "execution_count": 7,
   "metadata": {},
   "outputs": [
    {
     "name": "stdout",
     "output_type": "stream",
     "text": [
      "range(0, 5)\n",
      "10\n",
      "9\n",
      "8\n",
      "7\n",
      "6\n",
      "5\n",
      "4\n",
      "3\n",
      "2\n",
      "1\n"
     ]
    }
   ],
   "source": [
    "# range -> 주로 반복문과 함께 쓰인다\n",
    "\n",
    "print(range(5))\n",
    "\n",
    "# for i in range(5):\n",
    "# range(2,5)\n",
    "\n",
    "# range(1, 10, 2)     # step 이 2\n",
    "\n",
    "for i in range(10, 0, -1):\n",
    "    print(i)"
   ]
  },
  {
   "cell_type": "code",
   "execution_count": 10,
   "metadata": {},
   "outputs": [
    {
     "name": "stdout",
     "output_type": "stream",
     "text": [
      "5\n",
      "5\n"
     ]
    }
   ],
   "source": [
    "# value 5를 출력해 보세요\n",
    "\n",
    "my_dict = {\n",
    "    'a1' : {'b1' : 1, 'b2' : 2, 'b3' : 3},\n",
    "    'a2' : {'b1' : 4, 'b2' : 5, 'b3' : 6},\n",
    "    'a3' : {'b1' : 7, 'b2' : 8, 'b3' : 9},\n",
    "}\n",
    "\n",
    "# 방법1 \n",
    "value = my_dict['a2']['b2']         # 딕셔너리는 key로 접근한다. \n",
    "print(value)\n",
    "\n",
    "# 방법2 내장함수\n",
    "value2 = my_dict.get('a2').get('b2')\n",
    "print(value2)"
   ]
  },
  {
   "cell_type": "code",
   "execution_count": 11,
   "metadata": {},
   "outputs": [
    {
     "name": "stdout",
     "output_type": "stream",
     "text": [
      "{1, 2, 3, 4, 5, 6, 7, 8, 9}\n",
      "{1, 2, 3}\n",
      "{4, 5, 6}\n"
     ]
    }
   ],
   "source": [
    "# set는 중복을 허용하지 않는다\n",
    "set_1 = {1, 2, 3, 4, 5, 6}\n",
    "set_2 = {4, 5, 6, 7, 8, 9}\n",
    "\n",
    "#합집합 출력\n",
    "print(set_1 | set_2)\n",
    "\n",
    "#차집합 출력\n",
    "print(set_1 - set_2)\n",
    "\n",
    "#교집합 출력\n",
    "print(set_1 & set_2)\n"
   ]
  },
  {
   "cell_type": "code",
   "execution_count": 42,
   "metadata": {},
   "outputs": [
    {
     "name": "stdout",
     "output_type": "stream",
     "text": [
      "[8, 15, 18, 32, 34, 43]\n"
     ]
    }
   ],
   "source": [
    "import random\n",
    "\n",
    "lotto_set = set()\n",
    "\n",
    "while len(lotto_set) < 6:\n",
    "    number = random.randint(1, 45)\n",
    "    lotto_set.add(number)\n",
    "\n",
    "lotto_list = list(lotto_set)\n",
    "lotto_list.sort()\n",
    "print(lotto_list) \n"
   ]
  },
  {
   "cell_type": "code",
   "execution_count": 45,
   "metadata": {},
   "outputs": [
    {
     "name": "stdout",
     "output_type": "stream",
     "text": [
      "15\n",
      "15\n"
     ]
    }
   ],
   "source": [
    "numbers = [1, 2, 3, 4, 5]\n",
    "\n",
    "total = 0\n",
    "\n",
    "for num in numbers:\n",
    "    total += num\n",
    "\n",
    "print(total)\n",
    "\n",
    "# 내장함수도 있다\n",
    "print(sum(numbers))"
   ]
  },
  {
   "cell_type": "code",
   "execution_count": 50,
   "metadata": {},
   "outputs": [
    {
     "name": "stdout",
     "output_type": "stream",
     "text": [
      "False\n",
      "True\n",
      "5\n",
      "0\n",
      "0\n",
      "0\n",
      "5\n",
      "3\n",
      "3\n",
      "0\n"
     ]
    }
   ],
   "source": [
    "vowels = 'aeiou'\n",
    "\n",
    "print(('a' and 'b') in vowels)         # and 의 경우 q가 거짓이면 거짓, q가 참이면 참이다. \n",
    "print(('b' and 'a') in vowels)\n",
    "\n",
    "print(3 and 5)                     \n",
    "print(3 and 0)\n",
    "print(0 and 3)\n",
    "print(0 and 0)\n",
    "\n",
    "print(5 or 3)\n",
    "print(3 or 0)\n",
    "print(0 or 3)\n",
    "print(0 or 0)"
   ]
  },
  {
   "cell_type": "code",
   "execution_count": 52,
   "metadata": {},
   "outputs": [
    {
     "name": "stdout",
     "output_type": "stream",
     "text": [
      "False\n"
     ]
    }
   ],
   "source": [
    "word = 'hello'\n",
    "numbers = [1, 2, 3, 4, 5]\n",
    "\n",
    "result = not(4 in numbers)\n",
    "print(result)"
   ]
  },
  {
   "cell_type": "code",
   "execution_count": 2,
   "metadata": {},
   "outputs": [
    {
     "name": "stdout",
     "output_type": "stream",
     "text": [
      "8\n",
      "8\n",
      "8\n"
     ]
    }
   ],
   "source": [
    "def get_sum(num1, num2):\n",
    "    return num1 + num2\n",
    "\n",
    "num1 = 5\n",
    "num2 = 3\n",
    "result = get_sum(num1, num2)\n",
    "print(result)\n",
    "\n",
    "#1. 매개변수가 없는 함수로 변형 -> 출력 결과는 같게\n",
    "def get_sum2():\n",
    "    num1 = 5\n",
    "    num2 = 3\n",
    "    return num1 + num2\n",
    "result = get_sum2()\n",
    "print(result)\n",
    "\n",
    "#2. return 반환값이 없는 함수로 변형 -> 출력 결과는 같게\n",
    "def get_sum3(num1, num2):\n",
    "    result = num1 + num2\n",
    "    print(result)\n",
    "\n",
    "num1 = 5\n",
    "num2 = 3\n",
    "get_sum3(num1, num2)\n",
    "\n"
   ]
  },
  {
   "cell_type": "code",
   "execution_count": 8,
   "metadata": {},
   "outputs": [
    {
     "name": "stdout",
     "output_type": "stream",
     "text": [
      "안녕하세요, Alice님! 25살 이시군요.\n",
      "안녕하세요, wonbin님! 40살 이시군요.\n",
      "안녕하세요, Kai님! 33살 이시군요.\n"
     ]
    }
   ],
   "source": [
    "# 위치(positional) 인자\n",
    "def greet(name, age):\n",
    "    print(f'안녕하세요, {name}님! {age}살 이시군요.')\n",
    "\n",
    "greet('Alice', 25)\n",
    "\n",
    "# 위치(defualt) 인자\n",
    "def greet2(name, age=40):\n",
    "    print(f'안녕하세요, {name}님! {age}살 이시군요.')\n",
    "\n",
    "greet2(\"wonbin\")\n",
    "\n",
    "# 키워드 인자 -> 키워드 인자와 위치 인자는 같이 사용할 수 없다.\n",
    "def greet3(name, age):\n",
    "    print(f'안녕하세요, {name}님! {age}살 이시군요.')\n",
    "\n",
    "greet3(age = 33, name = 'Kai')"
   ]
  },
  {
   "cell_type": "code",
   "execution_count": 10,
   "metadata": {},
   "outputs": [
    {
     "name": "stdout",
     "output_type": "stream",
     "text": [
      "(1, 2, 3, 4, 5)\n",
      "합계 : 15\n",
      "{'name': 'Eve', 'age': 30, 'height': 175.3}\n"
     ]
    }
   ],
   "source": [
    "#가변인자 목록\n",
    "def calculate_sum(*args):\n",
    "    print(args)\n",
    "    total = sum(args)\n",
    "    print(f'합계 : {total}')\n",
    "\n",
    "calculate_sum(1, 2, 3, 4, 5)\n",
    "\n",
    "\n",
    "#가변 키워드 인자\n",
    "def print_info(**kwargs):\n",
    "    print(kwargs)\n",
    "\n",
    "print_info(name = 'Eve', age = 30, height=175.3)          # 가변 키워드 인자는 딕셔너리 타입으로 처리"
   ]
  },
  {
   "cell_type": "code",
   "execution_count": 2,
   "metadata": {},
   "outputs": [
    {
     "name": "stdout",
     "output_type": "stream",
     "text": [
      "3\n",
      "4 5 500\n",
      "4 5 6\n",
      "1 2 3\n"
     ]
    }
   ],
   "source": [
    "z = 3 # global \n",
    "def outer():\n",
    "    x = 1\n",
    "    def inner():\n",
    "        y = 2 #로컬 변수\n",
    "        result = x + y   # x는 enclosed 변수 사용\n",
    "        print(result)\n",
    "    inner()\n",
    "\n",
    "outer()\n",
    "\n",
    "\n",
    "# built-in scope -> 내장 함수  ex) len , print, input 등...\n",
    "\n",
    "\n",
    "a, b, c = 1, 2, 3\n",
    "\n",
    "def enclosed():\n",
    "    a, b, c = 4, 5, 6\n",
    "    def local(c):\n",
    "        print(a, b, c)      \n",
    "\n",
    "    local(500)        # 4 5 500\n",
    "    print(a, b, c)    # 4 5 6 \n",
    "\n",
    "enclosed()\n",
    "print(a, b, c)         # 1 2 3\n"
   ]
  },
  {
   "cell_type": "code",
   "execution_count": 4,
   "metadata": {},
   "outputs": [
    {
     "name": "stdout",
     "output_type": "stream",
     "text": [
      "120\n"
     ]
    }
   ],
   "source": [
    "# 재귀함수의 가장 기본적인 예 팩토리얼\n",
    "\n",
    "n = int(input())\n",
    "\n",
    "def fac(n):\n",
    "    if n == 0:            # 종료 조건\n",
    "        return 1 \n",
    "    \n",
    "    return n * fac(n-1)     # 반복되는 호출이 종료조건을 향하도록\n",
    "\n",
    "result = fac(n)\n",
    "print(result)\n",
    "\n"
   ]
  },
  {
   "cell_type": "code",
   "execution_count": 8,
   "metadata": {},
   "outputs": [
    {
     "name": "stdout",
     "output_type": "stream",
     "text": [
      "[1, 4, 9, 16, 25]\n"
     ]
    }
   ],
   "source": [
    "# lambda 매개변수 : 표현식\n",
    "\n",
    "#1. 1회성 이기 때문에 함수 명이 필요없다. \n",
    "#2. 표현식의 결과가 반환\n",
    "\n",
    "# map() 함수를 사용하여 numbers 리스트의 각 요소가 제곱된 값들로 이루어진 새로운 리스트 생성\n",
    "numbers = [1, 2, 3, 4, 5]\n",
    "\n",
    "result = map(lambda x : x ** 2, numbers)          # map 함수 : map(function, iterables)\n",
    "\n",
    "print(list(result))\n"
   ]
  },
  {
   "cell_type": "code",
   "execution_count": null,
   "metadata": {},
   "outputs": [],
   "source": [
    "#zip(*iterables) -> *iterables를 튜플을 원소로 하는 zip 객체 변환\n",
    "names = ['Kai', 'Jane', 'Bob']\n",
    "ages = [31, 31, 27]\n",
    "cities = ['Seoul', 'London', 'Tokyo']\n",
    "\n",
    "for name, age, city in zip(names, ages, cities):\n",
    "    print(f'저는 {name}이고, {age}세 이고, {city}에 살고 있습니다. ')"
   ]
  },
  {
   "cell_type": "code",
   "execution_count": 28,
   "metadata": {},
   "outputs": [
    {
     "name": "stdout",
     "output_type": "stream",
     "text": [
      "다음은 이형기 시인의 \"낙화\"의 한 구절이다.\n",
      "- 1연\n",
      "\t 가야할 때 언제인가를\n",
      "\t 분명히 알고 가는 이의\n",
      "\t 뒷모습은 얼마나 아름다운가.\n",
      "\n",
      "나는 이 시를 보며 '나는 내가 가야할 때가 언제일까?' 를 생각해 보았다.\n"
     ]
    }
   ],
   "source": [
    "# 데일리과제 2일차\n",
    "print('다음은 이형기 시인의 \"낙화\"의 한 구절이다.')\n",
    "print('- 1연')\n",
    "print('\\t 가야할 때 언제인가를')\n",
    "print('\\t 분명히 알고 가는 이의')\n",
    "print('\\t 뒷모습은 얼마나 아름다운가.')\n",
    "print()\n",
    "print('나는 이 시를 보며 \\'나는 내가 가야할 때가 언제일까?\\' 를 생각해 보았다.')"
   ]
  },
  {
   "cell_type": "code",
   "execution_count": 34,
   "metadata": {},
   "outputs": [
    {
     "name": "stdout",
     "output_type": "stream",
     "text": [
      "주생전의 작가는 권필이고,\n",
      "허균은 홍길동전를 집필하였다.\n"
     ]
    }
   ],
   "source": [
    "author_1 = '권필'\n",
    "author_2 = '허균'\n",
    "book_1 = '주생전'\n",
    "book_2 = '홍길동전'\n",
    "\n",
    "print(f'{book_1}의 작가는 {author_1}이고,')\n",
    "print(f'{author_2}은 {book_2}를 집필하였다.')\n"
   ]
  },
  {
   "cell_type": "code",
   "execution_count": 36,
   "metadata": {},
   "outputs": [
    {
     "name": "stdout",
     "output_type": "stream",
     "text": [
      "허균 : 홍길동전\n",
      "이항복 : 유연전\n",
      "작자 미상 : 심청전\n",
      "박지원 : 광문자전\n",
      "임제 : 수성지\n"
     ]
    }
   ],
   "source": [
    "books = ['광문자전', '유연전', '심청전', '홍길동전', '수성지']\n",
    "authors = ['작자 미상', '허균', '박지원', '이항복', '임제']\n",
    "\n",
    "print(authors[1], ':', books[3])\n",
    "print(authors[3], ':', books[1])\n",
    "print(authors[0], ':', books[2])\n",
    "print(authors[2], ':', books[0])\n",
    "print(authors[4], ':', books[4])"
   ]
  },
  {
   "cell_type": "code",
   "execution_count": 41,
   "metadata": {},
   "outputs": [
    {
     "name": "stdout",
     "output_type": "stream",
     "text": [
      "김시습 : 금오신화, 이생규장전, 만복자서포기\n",
      "허균 : 홍길동전, 장생전, 도문대작\n",
      "남영로 : 옥루몽, 옥련몽\n",
      "작자 미상 : 장화홍련전, 가락국 신화, 온달 설화\n",
      "임제 : 수성지, 백호집, 원생몽유록\n"
     ]
    }
   ],
   "source": [
    "information = dict()\n",
    "authors = ['김시습', '허균', '남영로', '작자 미상', '임제', '박지원']\n",
    "books = [\n",
    "    ['장화홍련전', '가락국 신화', '온달 설화'],\n",
    "    ['금오신화', '이생규장전', '만복자서포기'],\n",
    "    ['수성지', '백호집', '원생몽유록'],\n",
    "    ['홍길동전', '장생전', '도문대작'],\n",
    "    ['옥루몽', '옥련몽'],\n",
    "]\n",
    "\n",
    "'''\n",
    "- 작가와 작품 목록 참고\n",
    "- 허균 : 홍길동전, 장생전, 도문대작\n",
    "- 임제 : 수성지, 백호집, 원생몽유록\n",
    "- 작자 미상 : 장화홍련전, 가락국 신화, 온달 설화\n",
    "'''\n",
    "\n",
    "information[authors[0]] = books[1]\n",
    "information[authors[1]] = books[3]\n",
    "information[authors[2]] = books[4]\n",
    "information[authors[3]] = books[0]\n",
    "information[authors[4]] = books[2]\n",
    "\n",
    "for author, works in information.items():\n",
    "    print(author, ':', ', '.join(works))"
   ]
  },
  {
   "cell_type": "code",
   "execution_count": 56,
   "metadata": {},
   "outputs": [
    {
     "name": "stdout",
     "output_type": "stream",
     "text": [
      "catalog와 backup_catalog를 비교한 결과\n",
      "False\n",
      "backup_catalog : \n",
      "[['시간의 틈', '반짝임의 어둠', '망각의 경계'], ['연기의 수수께끼', '장면의 고백', '드라마의 그림자'], ['황금의 칼날', '비열한 간신', '무명의 영웅'], ['성공의 열쇠', '내면의 변화', '목표의 달성']]\n",
      "\n",
      "catalog : \n",
      "[['시간의 틈', '반짝임의 어둠', '망각의 경계'], ['연기의 수수께끼', '장면의 고백', '드라마의 그림자'], ['황금의 칼날', '비열한 간신', '무명의 영웅'], ['성공을 향한 한 걸음', '내 삶의 변화', '목표 달성의 비밀']]\n"
     ]
    }
   ],
   "source": [
    "\n",
    "catalog = [\n",
    "    ['시간의 틈', '반짝임의 어둠', '망각의 경계'], \n",
    "    ['연기의 수수께끼', '장면의 고백', '드라마의 그림자'], \n",
    "    ['황금의 칼날', '비열한 간신', '무명의 영웅'], \n",
    "    ['성공의 열쇠', '내면의 변화', '목표의 달성']\n",
    "]\n",
    "\n",
    "backup_catalog = [row[:] for row in catalog]\n",
    "\n",
    "catalog[3][0] = '성공을 향한 한 걸음'\n",
    "catalog[3][1] = '내 삶의 변화'\n",
    "catalog[3][2] = '목표 달성의 비밀'\n",
    "\n",
    "print('catalog와 backup_catalog를 비교한 결과')\n",
    "# 식별 연산자로 catalog와 backup_catalog를 비교한 결과를 출력합니다.\n",
    "print(catalog is backup_catalog)\n",
    "\n",
    "print('backup_catalog : ')\n",
    "print(backup_catalog)\n",
    "print()\n",
    "\n",
    "print('catalog : ')\n",
    "print(catalog)\n",
    "\n",
    "\n",
    "\n",
    "\n"
   ]
  },
  {
   "cell_type": "code",
   "execution_count": 59,
   "metadata": {},
   "outputs": [
    {
     "name": "stdout",
     "output_type": "stream",
     "text": [
      "현재 보유 중인 총 책의 수는 다음과 같습니다.\n",
      "10\n",
      "그 중, 대여중인 책을 제외한 책의 수는 다음과 같습니다.\n",
      "7\n"
     ]
    }
   ],
   "source": [
    "book = '1'\n",
    "total = 10\n",
    "guide = '현재 보유 중인 총 책의 수는 다음과 같습니다.'\n",
    "print(guide)\n",
    "print(int(book) * total)\n",
    "\n",
    "changes = '그 중, 대여중인 책을 제외한 책의 수는 다음과 같습니다.'\n",
    "rental = 3.0\n",
    "print(changes)\n",
    "print(int(total - rental))\n"
   ]
  },
  {
   "cell_type": "code",
   "execution_count": 60,
   "metadata": {},
   "outputs": [
    {
     "name": "stdout",
     "output_type": "stream",
     "text": [
      "['박지원', '임제', '작자 미상', '남영로', '허균', '이항복', '조성기']\n"
     ]
    }
   ],
   "source": [
    "authors = ['작자 미상', '이항복', '임제', '임제', \n",
    "           '조성기', '조성기', '조성기', '임제', \n",
    "           '허균', '허균', '허균', '임제', '임제', \n",
    "           '임제', '임제', '임제', '임제', '임제', \n",
    "           '임제', '임제', '임제', '박지원', '이항복', \n",
    "           '남영로', '남영로', '남영로', '이항복', '임제', '임제']\n",
    "\n",
    "print(list(set(authors)))"
   ]
  },
  {
   "cell_type": "code",
   "execution_count": 62,
   "metadata": {},
   "outputs": [
    {
     "name": "stdout",
     "output_type": "stream",
     "text": [
      "현재 가입 된 유저 수 :  1\n"
     ]
    }
   ],
   "source": [
    "number_of_people = 0\n",
    "\n",
    "\n",
    "def increase_user():\n",
    "    global number_of_people\n",
    "    number_of_people += 1\n",
    "\n",
    "\n",
    "increase_user()\n",
    "print('현재 가입 된 유저 수 : ', number_of_people)\n"
   ]
  },
  {
   "cell_type": "code",
   "execution_count": 64,
   "metadata": {},
   "outputs": [
    {
     "name": "stdout",
     "output_type": "stream",
     "text": [
      "홍길동님 환영합니다!\n",
      "고객 정보: {'이름': '홍길동', '나이': '30', '주소': '서울'}\n",
      "현재 가입 된 유저 수 :  1\n"
     ]
    }
   ],
   "source": [
    "number_of_people = 0\n",
    "\n",
    "def increase_user():\n",
    "    global number_of_people\n",
    "    number_of_people += 1\n",
    "\n",
    "def create_user(name, age, address):\n",
    "    increase_user()\n",
    "    user_info = {\n",
    "        \"이름\": name,\n",
    "        \"나이\": age,\n",
    "        \"주소\": address\n",
    "    }\n",
    "    print(f\"{name}님 환영합니다!\")\n",
    "    return user_info\n",
    "\n",
    "name = input(\"이름을 입력하세요: \")\n",
    "age = input(\"나이를 입력하세요: \")\n",
    "address = input(\"주소를 입력하세요: \")\n",
    "\n",
    "user_info = create_user(name, age, address)\n",
    "print(\"고객 정보:\", user_info)\n",
    "print('현재 가입 된 유저 수 : ', number_of_people)"
   ]
  },
  {
   "cell_type": "code",
   "execution_count": 11,
   "metadata": {},
   "outputs": [
    {
     "name": "stdout",
     "output_type": "stream",
     "text": [
      "김시습님 환영합니다!\n",
      "허균님 환영합니다!\n",
      "남영로님 환영합니다!\n",
      "임제님 환영합니다!\n",
      "박지원님 환영합니다!\n",
      "{'name': '김시습', 'age': 20, 'address': '서울'}{'name': '허균', 'age': 16, 'address': '강릉'}{'name': '남영로', 'age': 52, 'address': '조선'}{'name': '임제', 'age': 36, 'address': '나주'}{'name': '박지원', 'age': 60, 'address': '한성부'}"
     ]
    }
   ],
   "source": [
    "number_of_people = 0\n",
    "user_list = []\n",
    "\n",
    "def increase_user():\n",
    "    global number_of_people\n",
    "    number_of_people += 1\n",
    "\n",
    "def create_user(name, age, address):\n",
    "    increase_user()\n",
    "    user_info = {\n",
    "        \"name\": name,\n",
    "        \"age\": age,\n",
    "        \"address\": address\n",
    "    }\n",
    "    print(f\"{name}님 환영합니다!\")\n",
    "    return user_info\n",
    "\n",
    "name = ['김시습', '허균', '남영로', '임제', '박지원']\n",
    "age = [20, 16, 52, 36, 60]\n",
    "address = ['서울', '강릉', '조선', '나주', '한성부']\n",
    "\n",
    "# Using map function to create users and collect their information in user_list\n",
    "user_list = list(map(create_user, name, age, address))\n",
    "\n",
    "for user in user_list:\n",
    "    print(user, end='')"
   ]
  },
  {
   "cell_type": "code",
   "execution_count": 2,
   "metadata": {},
   "outputs": [
    {
     "name": "stdout",
     "output_type": "stream",
     "text": [
      "3과 5를 인자로 넘긴 경우,\n",
      "8\n"
     ]
    }
   ],
   "source": [
    "\n",
    "def add_numbers(x, y):\n",
    "    \n",
    "    print('3과 5를 인자로 넘긴 경우,')\n",
    "    result = x + y\n",
    "    print(result)\n",
    "\n",
    "add_numbers(3, 5)"
   ]
  },
  {
   "cell_type": "code",
   "execution_count": 7,
   "metadata": {},
   "outputs": [
    {
     "name": "stdout",
     "output_type": "stream",
     "text": [
      "3\n",
      "False\n",
      "15\n",
      "['가', '교', '의', '지', '캅', '하']\n"
     ]
    }
   ],
   "source": [
    "# 1. 절댓값을 반환하는 함수 abs를 사용하여 아래 변수에 담긴 값의 절댓값을 출력하시오.\n",
    "negative = -3\n",
    "print(abs(negative))\n",
    "\n",
    "\n",
    "# 2. 아래 변수에 담긴 값의 boolean 값을 출력하시오.\n",
    "empty_list = []\n",
    "print(bool(empty_list))\n",
    "\n",
    "# 3. 주어진 리스트가 가진 모든 값을 더한 결과를 출력하시오.\n",
    "my_list = [1, 2, 3, 4, 5]\n",
    "print(sum(my_list))\n",
    "\n",
    "# 4. 주어진 정렬을 오름차순으로 정렬한 결과를 출력하시오.\n",
    "unsorted_list = ['하', '교', '캅', '의', '지', '가']\n",
    "print(sorted(unsorted_list))"
   ]
  },
  {
   "cell_type": "code",
   "execution_count": null,
   "metadata": {},
   "outputs": [],
   "source": []
  }
 ],
 "metadata": {
  "kernelspec": {
   "display_name": "Python 3",
   "language": "python",
   "name": "python3"
  },
  "language_info": {
   "codemirror_mode": {
    "name": "ipython",
    "version": 3
   },
   "file_extension": ".py",
   "mimetype": "text/x-python",
   "name": "python",
   "nbconvert_exporter": "python",
   "pygments_lexer": "ipython3",
   "version": "3.9.13"
  },
  "orig_nbformat": 4
 },
 "nbformat": 4,
 "nbformat_minor": 2
}
