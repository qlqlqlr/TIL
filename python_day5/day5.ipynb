{
 "cells": [
  {
   "cell_type": "code",
   "execution_count": 3,
   "metadata": {},
   "outputs": [
    {
     "name": "stdout",
     "output_type": "stream",
     "text": [
      "1\n",
      "-1\n"
     ]
    }
   ],
   "source": [
    "# 7/24 오후 실습\n",
    "\n",
    "a = 'hello world'\n",
    "\n",
    "print(a.find('e'))\n",
    "print(a.find('a'))"
   ]
  },
  {
   "cell_type": "code",
   "execution_count": 11,
   "metadata": {},
   "outputs": [
    {
     "name": "stdout",
     "output_type": "stream",
     "text": [
      "4\n",
      "7\n",
      "7\n",
      " . .P.r.a.c.t.i.c.e. .m.a.k.e.s. .p.e.r.f.e.c.t. . \n",
      "['', '', 'Practice', 'makes', 'perfect', '', '']\n",
      "  Practice made perfect  \n",
      "  PRACTICE MAKES PERFECT  \n",
      "  practice makes perfect  \n",
      "Practice makes perfect\n"
     ]
    }
   ],
   "source": [
    "a = \"  Practice makes perfect  \"\n",
    "\n",
    "# 1. 문자열 a에서 'e'의 개수 세기\n",
    "print(a.count('e'))\n",
    "\n",
    "# 2. 문자열 a에서 'i'의 위치 찾기 (2가지 방법)\n",
    "print(a.find('i'))        # i 가 존재하지 않으면 -1 리턴   (알고리즘에서 사용)\n",
    "print(a.index('i'))       # i 가 존재하지 않으면 에러\n",
    "\n",
    "# 3. 문자열 a의 문자 사이에 .(점) 삽입\n",
    "print('.'.join(a))\n",
    "\n",
    "# 4. 문자열 a를 공백 기준으로 분리하여 출력\n",
    "print(a.split(sep = ' ',))\n",
    "\n",
    "# 5. 문자열 a에서 'makes'를 'made'로 바꿔서 출력\n",
    "print(a.replace('makes', 'made'))\n",
    "\n",
    "# 6. 문자열 a를 대문자와 소문자로 변환하여 출력\n",
    "print(a.upper())\n",
    "print(a.lower())\n",
    "\n",
    "# 7. 문자열 a에서 양쪽 공백 삭제하기 \n",
    "print(a.strip())\n"
   ]
  },
  {
   "cell_type": "code",
   "execution_count": 12,
   "metadata": {},
   "outputs": [
    {
     "name": "stdout",
     "output_type": "stream",
     "text": [
      "False\n"
     ]
    }
   ],
   "source": [
    "string2 = 'hello123'\n",
    "\n",
    "print(string2.isalpha())"
   ]
  },
  {
   "cell_type": "code",
   "execution_count": 17,
   "metadata": {},
   "outputs": [
    {
     "name": "stdout",
     "output_type": "stream",
     "text": [
      "Today I Learn\n",
      " I Learn\n"
     ]
    }
   ],
   "source": [
    "a = 'today i learn'\n",
    "print(a.title())\n",
    "print(a.strip('today').title())"
   ]
  },
  {
   "cell_type": "code",
   "execution_count": 18,
   "metadata": {},
   "outputs": [
    {
     "name": "stdout",
     "output_type": "stream",
     "text": [
      "hello-world!\n"
     ]
    }
   ],
   "source": [
    "word = ['hello', 'world!']\n",
    "text = '-'.join(word)\n",
    "print(text)"
   ]
  },
  {
   "cell_type": "code",
   "execution_count": 37,
   "metadata": {},
   "outputs": [
    {
     "name": "stdout",
     "output_type": "stream",
     "text": [
      "['b', 'a', 'n', 'a', 'n', 'a']\n",
      "['a', 'a', 'a', 'b', 'n', 'n']\n",
      "['n', 'n', 'b', 'a', 'a', 'a']\n",
      "['a', 'a', 'a', 'b', 'n', 'n']\n",
      "['a', 'a', 'b', 'n', 'n']\n",
      "n\n",
      "1\n"
     ]
    }
   ],
   "source": [
    "a = ['b', 'a', 'n', 'a', 'n']\n",
    "\n",
    "# 반환하지 않는 메서드(Void methods)  -> 주로 원본을 변경한다. \n",
    "# 1. 리스트 a의 마지막에 'a' 추가하기\n",
    "a.append('a')\n",
    "print(a)\n",
    "\n",
    "# 2. 리스트 a를 오름차순으로 정렬\n",
    "a.sort()\n",
    "print(a)\n",
    "\n",
    "# 2-2. 리스트 a를 내림차순으로 정렬\n",
    "a.sort(reverse = True)      # sorted 원본을 건들지 않고 복사본을 반환한다. \n",
    "print(a)\n",
    "\n",
    "# 3. 리스트 a를 역순으로 뒤집기\n",
    "a.reverse()\n",
    "print(a)\n",
    "\n",
    "# 4. 리스트 a에서 문자 'a' 삭제하기\n",
    "a.remove('a')        # 전부다 제거되지 않고 하나만 제거된다\n",
    "print(a) \n",
    "\n",
    "\n",
    "# 반환하는 메서드 (Return methods)   -> 주로 원본을 변경하지 X\n",
    "# 5. 리스트 a의 마지막 요소를 꺼내서 삭제하고 삭제한 요소 출력\n",
    "print(a.pop())\n",
    "\n",
    "# 6. 리스트 a에서 문자 'n'의 개수를 출력\n",
    "print(a.count('n'))\n"
   ]
  },
  {
   "cell_type": "code",
   "execution_count": 40,
   "metadata": {},
   "outputs": [
    {
     "name": "stdout",
     "output_type": "stream",
     "text": [
      "['b', 'a', 'q', 'n', 'a', 'n']\n"
     ]
    }
   ],
   "source": [
    "a = ['b', 'a', 'n', 'a', 'n']\n",
    "\n",
    "a.insert(2, 'q')\n",
    "print(a)"
   ]
  },
  {
   "cell_type": "code",
   "execution_count": 57,
   "metadata": {},
   "outputs": [
    {
     "name": "stdout",
     "output_type": "stream",
     "text": [
      "!dlroW ,olleH\n"
     ]
    }
   ],
   "source": [
    "# 데일리 실습\n",
    "\n",
    "def reverse_string(a):\n",
    "    r = (''.join(reversed(a)))\n",
    "    return r\n",
    "\n",
    "result = reverse_string(\"Hello, World!\")\n",
    "print(result)\n"
   ]
  },
  {
   "cell_type": "code",
   "execution_count": 3,
   "metadata": {},
   "outputs": [
    {
     "name": "stdout",
     "output_type": "stream",
     "text": [
      "[1, 2, 3, 4, 5]\n"
     ]
    }
   ],
   "source": [
    "def remove_duplicates(a):\n",
    "    new_lst = list(set(a))\n",
    "    \n",
    "    return new_lst\n",
    "\n",
    "result = remove_duplicates([1, 2, 2, 3, 4, 4, 5])\n",
    "print(result)"
   ]
  },
  {
   "cell_type": "code",
   "execution_count": 11,
   "metadata": {},
   "outputs": [
    {
     "name": "stdout",
     "output_type": "stream",
     "text": [
      "(1, 2, 3, 5, 8)\n"
     ]
    }
   ],
   "source": [
    "def sort_tuple(a):\n",
    "  new_tuple = list(a)\n",
    "  new_tuple.sort()\n",
    "  new_tuple = tuple(new_tuple)\n",
    "  \n",
    "  return new_tuple\n",
    "\n",
    "result = sort_tuple((5, 2, 8, 1, 3))\n",
    "print(result)"
   ]
  },
  {
   "cell_type": "code",
   "execution_count": 15,
   "metadata": {},
   "outputs": [
    {
     "name": "stdout",
     "output_type": "stream",
     "text": [
      "Hello, World!\n"
     ]
    }
   ],
   "source": [
    "def capitalize_words(a):\n",
    "    text_C = a.title()\n",
    "    return text_C\n",
    "result = capitalize_words(\"hello, world!\")\n",
    "print(result)"
   ]
  },
  {
   "cell_type": "code",
   "execution_count": 43,
   "metadata": {},
   "outputs": [
    {
     "name": "stdout",
     "output_type": "stream",
     "text": [
      "[2, 4, 6, 8, 10]\n"
     ]
    }
   ],
   "source": [
    "def even_elements(a):\n",
    "    new_list = []\n",
    "    i = 0\n",
    "    while i < 10:\n",
    "        num = a.pop(0)\n",
    "        i += 1\n",
    "        if num % 2 == 0:\n",
    "            new_list.extend([num])\n",
    "    return new_list\n",
    "\n",
    "my_list = [1, 2, 3, 4, 5, 6, 7, 8, 9, 10]\n",
    "result = even_elements(my_list)\n",
    "print(result)\n",
    "\n"
   ]
  },
  {
   "cell_type": "code",
   "execution_count": 46,
   "metadata": {},
   "outputs": [
    {
     "name": "stdout",
     "output_type": "stream",
     "text": [
      "3\n"
     ]
    }
   ],
   "source": [
    "def count_character(a, b):\n",
    "    ans = a.count(b)\n",
    "    return ans\n",
    "\n",
    "result = count_character(\"Hello, World!\", \"o\")\n",
    "print(result) # 2"
   ]
  },
  {
   "cell_type": "code",
   "execution_count": 51,
   "metadata": {},
   "outputs": [
    {
     "name": "stdout",
     "output_type": "stream",
     "text": [
      "(1, 7)\n"
     ]
    }
   ],
   "source": [
    "def find_min_max(a):\n",
    "    ans = (min(a), max(a))\n",
    "    return ans\n",
    "\n",
    "result = find_min_max([3, 1, 7, 2, 5])\n",
    "print(result) # (1, 7)"
   ]
  },
  {
   "cell_type": "code",
   "execution_count": 58,
   "metadata": {},
   "outputs": [
    {
     "name": "stdout",
     "output_type": "stream",
     "text": [
      "#1 0\n",
      "#2 5\n",
      "#3 10\n"
     ]
    }
   ],
   "source": [
    "# SWEA 1859. 백만 장자 프로젝트\n",
    "\n",
    "\n",
    "T = int(input())\n",
    "\n",
    "for tc in range(1, T+1):\n",
    "    N = int(input())\n",
    "    price = list(map(int, input().split()))\n",
    "    dp = [0] * N\n",
    "\n",
    "    max_price = price[-1]\n",
    "    for i in range(N-2, -1, -1):\n",
    "        if max_price > price[i]:\n",
    "            dp[i+1] = max_price - price[i]\n",
    "        else:\n",
    "            max_price = price[i]\n",
    "\n",
    "    print(f\"#{tc}\", sum(dp))"
   ]
  },
  {
   "cell_type": "code",
   "execution_count": 60,
   "metadata": {},
   "outputs": [
    {
     "name": "stdout",
     "output_type": "stream",
     "text": [
      "#1 24\n",
      "#2 27\n"
     ]
    }
   ],
   "source": [
    "# SWEA 2071. 평균값 구하기\n",
    "\n",
    "T = int(input())\n",
    "\n",
    "for tc in range(1, T+1):\n",
    "    numbers = list(map(int, input().split()))\n",
    "    ave = round(sum(numbers)/10)\n",
    "    print(f'#{tc} {ave}')\n",
    "\n",
    "\n"
   ]
  },
  {
   "cell_type": "code",
   "execution_count": 62,
   "metadata": {},
   "outputs": [
    {
     "name": "stdout",
     "output_type": "stream",
     "text": [
      "#1 <\n",
      "#2 =\n",
      "#3 >\n"
     ]
    }
   ],
   "source": [
    "# SWEA 2070. 큰 놈, 작은 놈, 같은 놈\n",
    "\n",
    "T = int(input())\n",
    "\n",
    "for test_case in range(1, T+1):\n",
    "    a, b = map(int, input().split())\n",
    "    if a == b:\n",
    "        print(f'#{test_case} =')\n",
    "    elif a < b:\n",
    "        print(f'#{test_case} <')\n",
    "    else:\n",
    "        print(f'#{test_case} >')"
   ]
  },
  {
   "cell_type": "code",
   "execution_count": 63,
   "metadata": {},
   "outputs": [
    {
     "name": "stdout",
     "output_type": "stream",
     "text": [
      "99\n",
      "123\n",
      "2\n"
     ]
    }
   ],
   "source": [
    "# SWEA 2068. 최대수 구하기\n",
    "\n",
    "T = int(input())\n",
    "\n",
    "for test_case in range(1, T+1):\n",
    "    numbers = list(map(int, input().split()))\n",
    "    ans = max(numbers)\n",
    "    print(ans)"
   ]
  },
  {
   "cell_type": "code",
   "execution_count": 68,
   "metadata": {},
   "outputs": [
    {
     "name": "stdout",
     "output_type": "stream",
     "text": [
      "15\n"
     ]
    }
   ],
   "source": [
    "# SWEA 2063. 중간값 찾기\n",
    "\n",
    "N = int(input())\n",
    "score = list(map(int, input().split()))\n",
    "score.sort()\n",
    "print(score[N //2])\n"
   ]
  },
  {
   "cell_type": "code",
   "execution_count": 74,
   "metadata": {},
   "outputs": [
    {
     "name": "stdout",
     "output_type": "stream",
     "text": [
      "9\n",
      "678\n",
      "17\n",
      "67\n",
      "24\n",
      "6\n",
      "30\n",
      "0\n",
      "30\n"
     ]
    }
   ],
   "source": [
    "# SWEA 2058. 자릿수 더하기\n",
    "\n",
    "N = int(input())\n",
    "ans = 0\n",
    "while N > 1:\n",
    "    ans += N % 10\n",
    "    N = N // 10\n",
    "print(ans)\n"
   ]
  },
  {
   "cell_type": "code",
   "execution_count": 79,
   "metadata": {},
   "outputs": [
    {
     "name": "stdout",
     "output_type": "stream",
     "text": [
      "#1 -1\n",
      "#2 2022/02/28\n"
     ]
    }
   ],
   "source": [
    "# 2056. 연월일 달력\n",
    "\n",
    "\n",
    "def isvalid(year, month, day):\n",
    "    monthday = [31, 28, 31, 30, 31, 30, 31, 31, 30, 31, 30, 31]\n",
    "    if month < 1 or month > 12:\n",
    "        return False\n",
    "    \n",
    "    if day < 1 or day > monthday[month-1]:\n",
    "        return False\n",
    "    \n",
    "    return True\n",
    "\n",
    "T = int(input())\n",
    "\n",
    "for tc in range(1, T+1):\n",
    "    date_str = input()\n",
    "    year = int(date_str[:4])\n",
    "    month = int(date_str[4:6])\n",
    "    day = int(date_str[6:8])\n",
    "\n",
    "    if isvalid(year, month, day):\n",
    "        print(f'#{tc} {date_str[:4]}/{date_str[4:6]}/{date_str[6:]}')\n",
    "    else:\n",
    "        print(f'#{tc} -1')\n"
   ]
  },
  {
   "cell_type": "code",
   "execution_count": 82,
   "metadata": {},
   "outputs": [
    {
     "name": "stdout",
     "output_type": "stream",
     "text": [
      "1 2 3 4 5 6 7 8 9\n"
     ]
    }
   ],
   "source": [
    "\n",
    "\n",
    "string = input()\n",
    "\n",
    "result = []\n",
    "for char in string :\n",
    "    number = ord(char)-64\n",
    "    result.append(number)\n",
    "print(*result)"
   ]
  },
  {
   "cell_type": "code",
   "execution_count": 84,
   "metadata": {},
   "outputs": [
    {
     "name": "stdout",
     "output_type": "stream",
     "text": [
      "THE_HEADLINE_IS_THE_TEXT_INDICATING_THE_NATURE_OF_THE_ARTICLE_BELOW_IT.\n"
     ]
    }
   ],
   "source": [
    "string = input()\n",
    "HeadLine = string.upper()\n",
    "print(HeadLine)"
   ]
  },
  {
   "cell_type": "code",
   "execution_count": null,
   "metadata": {},
   "outputs": [],
   "source": []
  }
 ],
 "metadata": {
  "kernelspec": {
   "display_name": "Python 3",
   "language": "python",
   "name": "python3"
  },
  "language_info": {
   "codemirror_mode": {
    "name": "ipython",
    "version": 3
   },
   "file_extension": ".py",
   "mimetype": "text/x-python",
   "name": "python",
   "nbconvert_exporter": "python",
   "pygments_lexer": "ipython3",
   "version": "3.9.13"
  },
  "orig_nbformat": 4
 },
 "nbformat": 4,
 "nbformat_minor": 2
}
