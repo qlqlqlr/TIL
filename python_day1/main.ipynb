{
 "cells": [
  {
   "cell_type": "code",
   "execution_count": 3,
   "metadata": {},
   "outputs": [
    {
     "name": "stdout",
     "output_type": "stream",
     "text": [
      "반짝 반짝 작은별 아름답게 비치네\n",
      "동쪽 하늘에서도 서쪽 하늘에서도\n",
      "반짝 반짝 작은별 아름답게 비치네\n"
     ]
    }
   ],
   "source": [
    "# char = input()\n",
    "# char = input(\"문자 한개를 입력하세요!!\")\n",
    "# num = int(input())\n",
    "\n",
    "# char1, char2 = input().split()\n",
    "\n",
    "# num1, num2 = map(int, input().split())\n",
    "\n",
    "# year, month, day = map(int, input().split('.'))\n",
    "\n",
    "# num_list = list(map(int, input().split()))\n",
    "\n",
    "# name = input()\n",
    "# age = int(input())\n",
    "# height = float(input())\n",
    "\n",
    "# # 1. 포맷 코드\n",
    "# print(\"저의 이름은 %s, 나이는 %d, 키는 %.2f\" %(name, age, height))      # .2 는 둘째자리까지 반올림이다\n",
    "\n",
    "# # 2. f-string\n",
    "# print(f\"저의 이름은 {name}, 나이는 {age}, 키는 {height:.2f}\")\n",
    "\n",
    "# # 3. .format()\n",
    "# print(\"저의 이름은 {}, 나이는 {}, 키는 {:.2f}\" .format(name, age, height))\n",
    "\n",
    "\n",
    "# string = '문자열'\n",
    "# integer = 10\n",
    "# floating_point = 3.14\n",
    "# a_list = [1, 2, 3, 4, 5]\n",
    "# dictionary = {'name': '홍길동', 'age': 20}\n",
    "# a_set = {1, 2, 3, 4, 5}\n",
    "# a_range = range(11)\n",
    "# a_tuple = (1, 2, 3)\n",
    "# boolean = True\n",
    "\n",
    "\n",
    "\n",
    "# print(type(string))\n",
    "# print(type(integer))\n",
    "# print(type(floating_point))\n",
    "# print(type(a_list))\n",
    "# print(type(dictionary))\n",
    "# print(type(a_set))\n",
    "# print(type(a_range))\n",
    "# print(type(a_tuple))\n",
    "# print(type(boolean))\n",
    "\n",
    "\n",
    "\n",
    "twinkle = '반짝 반짝'\n",
    "also = '에서도'\n",
    "star = '작은별'\n",
    "beautiful = '아름답게 비치네'\n",
    "east = '동쪽 하늘'\n",
    "west = '서쪽 하늘'\n",
    "\n",
    "\n",
    "print(twinkle, star, beautiful)\n",
    "print(east, also, ' ', west, also, sep='')\n",
    "print(twinkle, star, beautiful)\n"
   ]
  },
  {
   "cell_type": "code",
   "execution_count": 4,
   "metadata": {},
   "outputs": [
    {
     "name": "stdout",
     "output_type": "stream",
     "text": [
      "원주율 :  3.141592653589793\n",
      "반지름 :  15\n",
      "원의 둘레 :  94.24777960769379\n",
      "원의 넓이 :  706.8583470577034\n"
     ]
    }
   ],
   "source": [
    "# 원주율\n",
    "Pi = 3.1415926535897932384626433832795028841971693993751058209749445923078164062862089986280348253421170679\n",
    "# 반지름\n",
    "half = 15\n",
    "circumference = Pi * 2 * half\n",
    "area = half * half * Pi\n",
    "\n",
    "\n",
    "\n",
    "print('원주율 : ', Pi)\n",
    "print('반지름 : ', half)\n",
    "print('원의 둘레 : ', circumference)\n",
    "print('원의 넓이 : ', area)"
   ]
  },
  {
   "cell_type": "code",
   "execution_count": 5,
   "metadata": {},
   "outputs": [
    {
     "name": "stdout",
     "output_type": "stream",
     "text": [
      "6\n",
      "9\n",
      "1\n",
      "3\n",
      "18\n",
      "6\n",
      "9\n",
      "1\n",
      "3\n",
      "18\n"
     ]
    }
   ],
   "source": [
    "print(3 * 2)\n",
    "print(3 ** 2)\n",
    "print((3 ** 2) // (3 * 2))\n",
    "print((3 ** 2) % (3 * 2))\n",
    "print((3 ** 2) + ((-3) ** 2))\n",
    "\n",
    "x = 3\n",
    "xby2 = 3 * 2\n",
    "xdouble = x ** 2\n",
    "minusxdouble = (-x) ** 2\n",
    "\n",
    "print(xby2)\n",
    "print(xdouble)\n",
    "print(xdouble // xby2)\n",
    "print(xdouble % xby2)\n",
    "print(xdouble + minusxdouble)"
   ]
  },
  {
   "cell_type": "code",
   "execution_count": 8,
   "metadata": {},
   "outputs": [
    {
     "name": "stdout",
     "output_type": "stream",
     "text": [
      "Hello, Wolrd!\n"
     ]
    }
   ],
   "source": [
    "word = 'Hello, Wolrd!'\n",
    "\n",
    "print(word)  ##"
   ]
  },
  {
   "cell_type": "code",
   "execution_count": 10,
   "metadata": {},
   "outputs": [
    {
     "name": "stdout",
     "output_type": "stream",
     "text": [
      "사과는 영어로 apple\n",
      "바나나는 영어로 banana\n",
      "키위는 영어로 kiwi\n"
     ]
    }
   ],
   "source": [
    "# hw_1_4.py\n",
    "applewithKR = '사과는 영어로 apple'\n",
    "bananawithKR = '바나나는 영어로 banana'\n",
    "kiwiwithKR = '키위는 영어로 kiwi'\n",
    "\n",
    "print(applewithKR)\n",
    "print(bananawithKR)\n",
    "print(kiwiwithKR)"
   ]
  },
  {
   "cell_type": "code",
   "execution_count": 13,
   "metadata": {},
   "outputs": [
    {
     "name": "stdout",
     "output_type": "stream",
     "text": [
      "66\n"
     ]
    }
   ],
   "source": [
    "n = int(input())  # 입력 받기\n",
    "\n",
    "s = 0  # 합을 저장할 변수 초기화\n",
    "c = 1  # 더할 숫자 초기화\n",
    "\n",
    "while True:\n",
    "    s += c  # 현재 숫자를 합에 더함\n",
    "    c += 1  # 다음 숫자로 이동\n",
    "\n",
    "    if s >= n:\n",
    "        break  # 합이 입력된 정수보다 크거나 같으면 반복문 종료\n",
    "\n",
    "print(s)  # 합 출력"
   ]
  },
  {
   "cell_type": "code",
   "execution_count": 14,
   "metadata": {},
   "outputs": [
    {
     "name": "stdout",
     "output_type": "stream",
     "text": [
      "1 2 4 5 7 8 10 11 "
     ]
    }
   ],
   "source": [
    "\n",
    "n = int(input())\n",
    "\n",
    "for i in range(1, n+1) :\n",
    "  if i%3==0 :\n",
    "    continue            #다음 반복 단계로 넘어간다.\n",
    "  print(i, end=' ')    #i가 짝수가 아닐 때만 실행된다."
   ]
  },
  {
   "cell_type": "code",
   "execution_count": 17,
   "metadata": {},
   "outputs": [
    {
     "name": "stdout",
     "output_type": "stream",
     "text": [
      "13\n"
     ]
    }
   ],
   "source": [
    "a, d, n = map(int, input().split())\n",
    "\n",
    "r = a + (d * (n-1))\n",
    "print(r)"
   ]
  },
  {
   "cell_type": "code",
   "execution_count": 18,
   "metadata": {},
   "outputs": [
    {
     "name": "stdout",
     "output_type": "stream",
     "text": [
      "1458\n"
     ]
    }
   ],
   "source": [
    "a, r, n = map(int, input().split())\n",
    "\n",
    "result = a * (r ** (n-1))\n",
    "print(result)"
   ]
  },
  {
   "cell_type": "code",
   "execution_count": 19,
   "metadata": {},
   "outputs": [
    {
     "name": "stdout",
     "output_type": "stream",
     "text": [
      "-121\n"
     ]
    }
   ],
   "source": [
    "a, m, d, n = map(int, input().split())\n",
    "\n",
    "result = a * (m ** (n - 1)) + (d * (n - 1))\n",
    "\n",
    "print(result)"
   ]
  },
  {
   "cell_type": "code",
   "execution_count": 27,
   "metadata": {},
   "outputs": [
    {
     "name": "stdout",
     "output_type": "stream",
     "text": [
      "-1\n",
      "3\n",
      "-5\n",
      "11\n",
      "-21\n",
      "43\n",
      "-85\n",
      "-85\n"
     ]
    }
   ],
   "source": [
    "a, m, d, n = map(int, input().split())  # 입력 받기\n",
    "result = a\n",
    "\n",
    "for i in range(n-1):\n",
    "    result = result * (m) + d\n",
    "    print(result)\n",
    "\n",
    "print(result)  # n번째 수 출력"
   ]
  },
  {
   "cell_type": "code",
   "execution_count": 28,
   "metadata": {},
   "outputs": [
    {
     "name": "stdout",
     "output_type": "stream",
     "text": [
      "63\n"
     ]
    }
   ],
   "source": [
    "\n",
    "a, b, c = map(int, input().split())\n",
    "\n",
    "\n",
    "d = 1\n",
    "while d%a!=0 or d%b!=0 or d%c!=0 :\n",
    "  d += 1\n",
    "print(d)"
   ]
  },
  {
   "cell_type": "code",
   "execution_count": 29,
   "metadata": {},
   "outputs": [
    {
     "ename": "ValueError",
     "evalue": "invalid literal for int() with base 10: ''",
     "output_type": "error",
     "traceback": [
      "\u001b[1;31m---------------------------------------------------------------------------\u001b[0m",
      "\u001b[1;31mValueError\u001b[0m                                Traceback (most recent call last)",
      "Cell \u001b[1;32mIn[29], line 1\u001b[0m\n\u001b[1;32m----> 1\u001b[0m n \u001b[39m=\u001b[39m \u001b[39mint\u001b[39;49m(\u001b[39minput\u001b[39;49m())  \u001b[39m# 출석 번호를 부른 횟수 입력\u001b[39;00m\n\u001b[0;32m      2\u001b[0m a \u001b[39m=\u001b[39m \u001b[39mlist\u001b[39m(\u001b[39mmap\u001b[39m(\u001b[39mint\u001b[39m, \u001b[39minput\u001b[39m()\u001b[39m.\u001b[39msplit()))  \u001b[39m# 출석 번호 입력\u001b[39;00m\n\u001b[0;32m      4\u001b[0m \u001b[39mfor\u001b[39;00m i \u001b[39min\u001b[39;00m \u001b[39mrange\u001b[39m(n\u001b[39m-\u001b[39m\u001b[39m1\u001b[39m, \u001b[39m-\u001b[39m\u001b[39m1\u001b[39m, \u001b[39m-\u001b[39m\u001b[39m1\u001b[39m) :\n",
      "\u001b[1;31mValueError\u001b[0m: invalid literal for int() with base 10: ''"
     ]
    }
   ],
   "source": [
    "n = int(input())  # 출석 번호를 부른 횟수 입력\n",
    "a = list(map(int, input().split()))  # 출석 번호 입력\n",
    "\n",
    "for i in range(n-1, -1, -1) :\n",
    "  print(a[i], end=' ')"
   ]
  },
  {
   "cell_type": "code",
   "execution_count": 31,
   "metadata": {},
   "outputs": [
    {
     "name": "stdout",
     "output_type": "stream",
     "text": [
      "2\n"
     ]
    }
   ],
   "source": [
    "n = int(input())  # 출석 번호를 부른 횟수 입력\n",
    "a = list(map(int, input().split()))  # 출석 번호 입력\n",
    "min = a[0]\n",
    "\n",
    "\n",
    "for i in range(n-1):\n",
    "    if min < a[i+1]:\n",
    "        min = min\n",
    "    else:\n",
    "        min = a[i+1]\n",
    "\n",
    "print(min)"
   ]
  },
  {
   "cell_type": "code",
   "execution_count": null,
   "metadata": {},
   "outputs": [],
   "source": []
  }
 ],
 "metadata": {
  "kernelspec": {
   "display_name": "Python 3",
   "language": "python",
   "name": "python3"
  },
  "language_info": {
   "codemirror_mode": {
    "name": "ipython",
    "version": 3
   },
   "file_extension": ".py",
   "mimetype": "text/x-python",
   "name": "python",
   "nbconvert_exporter": "python",
   "pygments_lexer": "ipython3",
   "version": "3.9.13"
  },
  "orig_nbformat": 4
 },
 "nbformat": 4,
 "nbformat_minor": 2
}
