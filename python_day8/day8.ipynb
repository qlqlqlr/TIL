{
 "cells": [
  {
   "cell_type": "code",
   "execution_count": 1,
   "metadata": {},
   "outputs": [
    {
     "name": "stdout",
     "output_type": "stream",
     "text": [
      "Model : 320i, color : Brooklyn Gray\n",
      "speedchange : 80\n"
     ]
    }
   ],
   "source": [
    "# 반별 실습\n",
    "\n",
    "# 클래스 Car 정의, 부모클래스\n",
    "\n",
    "class Car: \n",
    "    def __init__(self, model, color):\n",
    "        self.model = model\n",
    "        self.color = color\n",
    "    \n",
    "\n",
    "    def info(self):\n",
    "        print(f'Model : {self.model}, color : {self.color}')\n",
    "\n",
    "# 클래스 CarDrive 정의, 자식 클래스\n",
    "\n",
    "class CarDrive(Car):\n",
    "    def speedchange(self, speed):\n",
    "        self.speed = speed\n",
    "        print(f'speedchange : {self.speed}')\n",
    "\n",
    "# 1. info 메서드 호출\n",
    "car1 = CarDrive('320i', 'Brooklyn Gray')\n",
    "car1.info()\n",
    "\n",
    "# 2. speedchange 메서드 호출\n",
    "car1.speedchange(80)\n",
    "\n",
    "\n",
    "# 클래스 상속? 자식 클래스 괄호 안에 부모 클래스를 포함하면 -> 클래스 상속\n",
    "# 이점? 자식클래스는 모든 클래스 변수와 메서드를 따로 선언하지 않아도 그대로 사용 가능 (부모꺼)\n"
   ]
  },
  {
   "cell_type": "code",
   "execution_count": 6,
   "metadata": {},
   "outputs": [
    {
     "name": "stdout",
     "output_type": "stream",
     "text": [
      "model : 320i, color : Brooklyn Gray, speed : 80\n"
     ]
    }
   ],
   "source": [
    "class Car: \n",
    "    def __init__(self, model, color):\n",
    "        self.model = model\n",
    "        self.color = color\n",
    "    \n",
    "\n",
    "class CarDrive(Car):\n",
    "    def __init__(self, model, color, speed):\n",
    "        super().__init__(model, color)\n",
    "        self.speed = speed\n",
    "\n",
    "    \n",
    "    def info(self):\n",
    "        print(f'model : {self.model}, color : {self.color}, speed : {self.speed}')\n",
    "\n",
    "# 2. info 메서드 호출\n",
    "car1 = CarDrive('320i', 'Brooklyn Gray', 80)\n",
    "car1.info()"
   ]
  },
  {
   "cell_type": "code",
   "execution_count": 9,
   "metadata": {},
   "outputs": [
    {
     "name": "stdout",
     "output_type": "stream",
     "text": [
      "100km/h\n",
      "1.6turbo\n",
      "1.999cc\n",
      "Blue\n"
     ]
    }
   ],
   "source": [
    "class Car: \n",
    "    def __init__(self, model, color):\n",
    "        self.model = model\n",
    "        self.color = color\n",
    "    \n",
    "class BMW(Car):\n",
    "    color = 'Brooklyn Gray'\n",
    "    def speed(self):\n",
    "        return '80km/h'\n",
    "    \n",
    "class Kia(Car):\n",
    "    color = 'black'\n",
    "    def engine(self):\n",
    "        return '1.6turbo'\n",
    "    \n",
    "class CarDrive(BMW, Kia):\n",
    "    def speed(self):\n",
    "        return '100km/h'\n",
    "    \n",
    "    def power(self):\n",
    "        return '1.999cc'\n",
    "    \n",
    "# speed 메서드 호출 -> 출력     -> 오버라이딩\n",
    "# engine 메서드 호출 -> 출력\n",
    "# power 메서드 호출 -> 출력\n",
    "# color 클래스 변수 접근 -> 출력\n",
    "\n",
    "car1 = CarDrive('320i', 'Blue')\n",
    "\n",
    "print(car1.speed())\n",
    "print(car1.engine())\n",
    "print(car1.power())\n",
    "print(car1.color)\n",
    "\n",
    "# 오버라이딩 : 부모 클래스의 메서드를 자식 클래스에서 재정의 하는것 "
   ]
  },
  {
   "cell_type": "code",
   "execution_count": 11,
   "metadata": {},
   "outputs": [
    {
     "name": "stdout",
     "output_type": "stream",
     "text": [
      "color : Brooklyn Gray, Model : 320i\n",
      "[<class '__main__.CarDrive'>, <class '__main__.Car'>, <class 'object'>]\n"
     ]
    }
   ],
   "source": [
    "class Car: \n",
    "    def __init__(self, model, color):\n",
    "        self.model = model\n",
    "        self.color = color\n",
    "\n",
    "    def info(self):\n",
    "        print(f'Model : {self.model}, color : {self.color}')\n",
    "\n",
    "    \n",
    "class CarDrive(Car):\n",
    "    # info 메서드를 오버라이딩\n",
    "    def info(self):\n",
    "        print(f'color : {self.color}, Model : {self.model}')\n",
    "\n",
    "\n",
    "# info 메서드 호출\n",
    "car1 = CarDrive('320i', 'Brooklyn Gray')\n",
    "car1.info()\n",
    "print(CarDrive.mro())"
   ]
  },
  {
   "cell_type": "code",
   "execution_count": 29,
   "metadata": {},
   "outputs": [
    {
     "name": "stdout",
     "output_type": "stream",
     "text": [
      "동물의 수는 1마리 입니다.\n",
      "동물의 수는 2마리 입니다.\n"
     ]
    }
   ],
   "source": [
    "# 데일리 실습 \n",
    "\n",
    "# ws_8_1.py\n",
    "\n",
    "# 아래 클래스를 수정하시오.\n",
    "class Animal:\n",
    "    def __init__(self):\n",
    "        pass\n",
    "    \n",
    "    num_of_animal = 0\n",
    "\n",
    "class Dog(Animal):\n",
    "    def __init__(self):\n",
    "        Animal.num_of_animal += 1\n",
    "\n",
    "class Cat(Animal):\n",
    "    def __init__(self):\n",
    "        Animal.num_of_animal += 1\n",
    "\n",
    "class Pet(Dog, Cat):\n",
    "   def access_num_of_animal(self):\n",
    "        return (f'동물의 수는 {self.num_of_animal}마리 입니다.')\n",
    "\n",
    "dog = Dog()\n",
    "print(Pet.access_num_of_animal(Animal))\n",
    "cat = Cat()\n",
    "print(Pet.access_num_of_animal(Animal))"
   ]
  },
  {
   "cell_type": "code",
   "execution_count": 34,
   "metadata": {},
   "outputs": [
    {
     "name": "stdout",
     "output_type": "stream",
     "text": [
      "멍멍 !\n"
     ]
    }
   ],
   "source": [
    "class Dog:\n",
    "   def __init__(self):\n",
    "      pass\n",
    "   \n",
    "   def bark(self):\n",
    "      print('멍멍 !')\n",
    "\n",
    "dog1 = Dog()\n",
    "dog1.bark()"
   ]
  },
  {
   "cell_type": "code",
   "execution_count": 35,
   "metadata": {},
   "outputs": [
    {
     "name": "stdout",
     "output_type": "stream",
     "text": [
      "야옹 !\n"
     ]
    }
   ],
   "source": [
    "# ws_8_3.py\n",
    "\n",
    "# 아래 클래스를 수정하시오.\n",
    "class Cat:\n",
    "    def __init__(self):\n",
    "        pass\n",
    "   \n",
    "    def meow(self):\n",
    "        print('야옹 !')\n",
    "\n",
    "cat1 = Cat()\n",
    "cat1.meow()"
   ]
  },
  {
   "cell_type": "code",
   "execution_count": 38,
   "metadata": {},
   "outputs": [
    {
     "name": "stdout",
     "output_type": "stream",
     "text": [
      "그르르\n",
      "멍멍 !\n",
      "야옹 !\n",
      "애완동물과 놀기\n"
     ]
    }
   ],
   "source": [
    "class Dog:\n",
    "    def __init__(self):\n",
    "       pass\n",
    "   \n",
    "    def bark(cls):\n",
    "       print('멍멍 !')\n",
    "\n",
    "\n",
    "class Cat:\n",
    "    def __init__(self):\n",
    "        pass\n",
    "   \n",
    "    def meow(cls):\n",
    "        print('야옹 !')\n",
    "\n",
    "\n",
    "class Pet(Dog, Cat):\n",
    "    def __init__(self, sound):\n",
    "        self.sound = sound\n",
    "\n",
    "    def make_sound(self):\n",
    "        print(self.sound)\n",
    "\n",
    "    def play(self):\n",
    "        print('애완동물과 놀기')\n",
    "\n",
    "\n",
    "pet1 = Pet(\"그르르\")\n",
    "pet1.make_sound()\n",
    "pet1.bark()\n",
    "pet1.meow()\n",
    "pet1.play()"
   ]
  },
  {
   "cell_type": "code",
   "execution_count": 63,
   "metadata": {},
   "outputs": [
    {
     "name": "stdout",
     "output_type": "stream",
     "text": [
      "종합 : 15\n"
     ]
    }
   ],
   "source": [
    "def calculate_sum(a, b):\n",
    "    return a + b\n",
    "\n",
    "numbers = [1, 2, 3, 4, 5]\n",
    "total_sum = 0\n",
    "\n",
    "for i in range(len(numbers)):\n",
    "    total_sum = calculate_sum(total_sum, numbers[i])\n",
    "\n",
    "print(f'종합 : {total_sum}')"
   ]
  },
  {
   "cell_type": "code",
   "execution_count": 26,
   "metadata": {},
   "outputs": [
    {
     "name": "stdout",
     "output_type": "stream",
     "text": [
      "애완동물은 멍멍 소리를 냅니다.\n",
      "애완동물은 야옹 소리를 냅니다.\n"
     ]
    }
   ],
   "source": [
    "class Dog:\n",
    "    def __init__(self):\n",
    "        self.sound = '멍멍'\n",
    "    \n",
    "    def speak(self):\n",
    "        return self.sound\n",
    "\n",
    "class Cat:\n",
    "    def __init__(self):\n",
    "        self.sound = '야옹'\n",
    "\n",
    "    def speak(self):\n",
    "        return self.sound\n",
    "    \n",
    "class Pet(Dog, Cat):\n",
    "    def __init__(self, animal):\n",
    "        super().__init__()\n",
    "        self.animal = animal\n",
    "\n",
    "    def __str__(self):\n",
    "        return f'애완동물은 {self.animal().speak()} 소리를 냅니다.'\n",
    "\n",
    "\n",
    "pet1 = Pet(Dog)\n",
    "print(pet1)\n",
    "\n",
    "pet2 = Pet(Cat)\n",
    "print(pet2)"
   ]
  },
  {
   "cell_type": "code",
   "execution_count": 20,
   "metadata": {},
   "outputs": [
    {
     "name": "stdout",
     "output_type": "stream",
     "text": [
      "애완동물은 멍멍 소리를 냅니다.\n",
      "애완동물은 야옹 소리를 냅니다.\n"
     ]
    }
   ],
   "source": [
    "class Dog:\n",
    "    sound = '멍멍'\n",
    "\n",
    "    def __str__(self):\n",
    "        return f'애완동물은 {self.sound} 소리를 냅니다.'\n",
    "\n",
    "class Cat:\n",
    "    sound = '야옹'\n",
    "\n",
    "    def __str__(self):\n",
    "        return f'애완동물은 {self.sound} 소리를 냅니다.'\n",
    "\n",
    "class Pet(Dog, Cat):\n",
    "    def __str__(self):\n",
    "        return f'애완동물은 {self.sound} 소리를 냅니다.'\n",
    "\n",
    "# pet1은 Dog 클래스로 생성\n",
    "pet1 = Dog()\n",
    "print(pet1)\n",
    "\n",
    "# pet2는 Cat 클래스로 생성\n",
    "pet2 = Cat()\n",
    "print(pet2)\n"
   ]
  },
  {
   "cell_type": "code",
   "execution_count": 4,
   "metadata": {},
   "outputs": [
    {
     "name": "stdout",
     "output_type": "stream",
     "text": [
      "애완동물은 멍멍 소리를 냅니다.\n",
      "애완동물은 멍멍 소리를 냅니다.\n"
     ]
    }
   ],
   "source": [
    "class Dog:\n",
    "    sound = '멍멍'\n",
    "\n",
    "    def __str__(self):\n",
    "        return f'애완동물은 {self.sound} 소리를 냅니다.'\n",
    "\n",
    "class Cat:\n",
    "    sound = '야옹'\n",
    "\n",
    "    def __str__(self):\n",
    "        return f'애완동물은 {self.sound} 소리를 냅니다.'\n",
    "\n",
    "class Pet(Dog, Cat):\n",
    "    def __str__(self):\n",
    "        if isinstance(self, Dog):\n",
    "            return f'애완동물은 {Dog.sound} 소리를 냅니다.'\n",
    "        elif isinstance(self, Cat):\n",
    "            return f'애완동물은 {Cat.sound} 소리를 냅니다.'\n",
    "\n",
    "# pet1은 Dog 클래스로 생성\n",
    "pet1 = Pet()\n",
    "print(pet1)\n",
    "\n",
    "# pet2는 Cat 클래스로 생성\n",
    "pet2 = Pet()\n",
    "print(pet2)"
   ]
  },
  {
   "cell_type": "code",
   "execution_count": 5,
   "metadata": {},
   "outputs": [
    {
     "name": "stdout",
     "output_type": "stream",
     "text": [
      "애완동물은 멍멍 소리를 냅니다.\n",
      "애완동물은 멍멍 소리를 냅니다.\n"
     ]
    }
   ],
   "source": [
    "class Dog:\n",
    "    sound = '멍멍'\n",
    "\n",
    "    def __str__(self):\n",
    "        return f'애완동물은 {self.sound} 소리를 냅니다.'\n",
    "\n",
    "class Cat:\n",
    "    sound = '야옹'\n",
    "\n",
    "    def __str__(self):\n",
    "        return f'애완동물은 {self.sound} 소리를 냅니다.'\n",
    "\n",
    "class Pet(Dog, Cat):\n",
    "    pass\n",
    "\n",
    "# pet1은 Dog 클래스로 생성\n",
    "pet1 = Pet()\n",
    "print(pet1)\n",
    "\n",
    "# pet2는 Cat 클래스로 생성\n",
    "pet2 = Pet()\n",
    "print(pet2)"
   ]
  },
  {
   "cell_type": "code",
   "execution_count": 7,
   "metadata": {},
   "outputs": [
    {
     "name": "stdout",
     "output_type": "stream",
     "text": [
      "애완동물은 멍멍 소리를 냅니다.\n"
     ]
    },
    {
     "ename": "TypeError",
     "evalue": "'animal_type' is an invalid keyword argument for print()",
     "output_type": "error",
     "traceback": [
      "\u001b[1;31m---------------------------------------------------------------------------\u001b[0m",
      "\u001b[1;31mTypeError\u001b[0m                                 Traceback (most recent call last)",
      "Cell \u001b[1;32mIn[7], line 26\u001b[0m\n\u001b[0;32m     24\u001b[0m \u001b[39m# pet2는 Cat 클래스로 생성\u001b[39;00m\n\u001b[0;32m     25\u001b[0m pet2 \u001b[39m=\u001b[39m Pet()\n\u001b[1;32m---> 26\u001b[0m \u001b[39mprint\u001b[39;49m(pet2, animal_type\u001b[39m=\u001b[39;49m\u001b[39m'\u001b[39;49m\u001b[39mCat\u001b[39;49m\u001b[39m'\u001b[39;49m)\n",
      "\u001b[1;31mTypeError\u001b[0m: 'animal_type' is an invalid keyword argument for print()"
     ]
    }
   ],
   "source": [
    "class Dog:\n",
    "    sound = '멍멍'\n",
    "\n",
    "    def __str__(self):\n",
    "        return f'애완동물은 {self.sound} 소리를 냅니다.'\n",
    "\n",
    "class Cat:\n",
    "    sound = '야옹'\n",
    "\n",
    "    def __str__(self):\n",
    "        return f'애완동물은 {self.sound} 소리를 냅니다.'\n",
    "\n",
    "class Pet(Dog, Cat):\n",
    "    def __str__(self, animal_type='Dog'):\n",
    "        if animal_type == 'Dog':\n",
    "            return Dog.__str__(self)\n",
    "        elif animal_type == 'Cat':\n",
    "            return Cat.__str__(self)\n",
    "\n",
    "# pet1은 Dog 클래스로 생성\n",
    "pet1 = Pet()\n",
    "print(pet1)\n",
    "\n",
    "# pet2는 Cat 클래스로 생성\n",
    "pet2 = Pet()\n",
    "print(pet2, animal_type='Cat')"
   ]
  },
  {
   "cell_type": "code",
   "execution_count": 12,
   "metadata": {},
   "outputs": [
    {
     "ename": "TypeError",
     "evalue": "Pet() takes no arguments",
     "output_type": "error",
     "traceback": [
      "\u001b[1;31m---------------------------------------------------------------------------\u001b[0m",
      "\u001b[1;31mTypeError\u001b[0m                                 Traceback (most recent call last)",
      "Cell \u001b[1;32mIn[12], line 21\u001b[0m\n\u001b[0;32m     18\u001b[0m             \u001b[39mreturn\u001b[39;00m Cat\u001b[39m.\u001b[39m\u001b[39m__str__\u001b[39m(\u001b[39mself\u001b[39m)\n\u001b[0;32m     20\u001b[0m \u001b[39m# pet1은 Dog 클래스로 생성\u001b[39;00m\n\u001b[1;32m---> 21\u001b[0m pet1 \u001b[39m=\u001b[39m Pet(\u001b[39m'\u001b[39;49m\u001b[39mDog\u001b[39;49m\u001b[39m'\u001b[39;49m)\n\u001b[0;32m     22\u001b[0m \u001b[39mprint\u001b[39m(pet1)\n\u001b[0;32m     24\u001b[0m \u001b[39m# pet2는 Cat 클래스로 생성\u001b[39;00m\n",
      "\u001b[1;31mTypeError\u001b[0m: Pet() takes no arguments"
     ]
    }
   ],
   "source": [
    "class Dog:\n",
    "    sound = '멍멍'\n",
    "\n",
    "    def __str__(self):\n",
    "        return f'애완동물은 {self.sound} 소리를 냅니다.'\n",
    "\n",
    "class Cat:\n",
    "    sound = '야옹'\n",
    "\n",
    "    def __str__(self):\n",
    "        return f'애완동물은 {self.sound} 소리를 냅니다.'\n",
    "\n",
    "class Pet(Dog, Cat):\n",
    "    def __str__(self, animal_type='Dog'):\n",
    "        if animal_type == 'Dog':\n",
    "            return Dog.__str__(self)\n",
    "        elif animal_type == 'Cat':\n",
    "            return Cat.__str__(self)\n",
    "\n",
    "# pet1은 Dog 클래스로 생성\n",
    "pet1 = Pet('Dog')\n",
    "print(pet1)\n",
    "\n",
    "# pet2는 Cat 클래스로 생성\n",
    "pet2 = Pet('Cat')\n",
    "print(pet2.__str__('Cat'))"
   ]
  },
  {
   "cell_type": "code",
   "execution_count": 14,
   "metadata": {},
   "outputs": [
    {
     "name": "stdout",
     "output_type": "stream",
     "text": [
      "애완동물은 멍멍 소리를 냅니다.\n",
      "애완동물은 멍멍 소리를 냅니다.\n"
     ]
    }
   ],
   "source": [
    "class Dog:\n",
    "    sound = '멍멍'\n",
    "\n",
    "\n",
    "class Cat:\n",
    "    sound = '야옹'\n",
    "\n",
    "\n",
    "\n",
    "class Pet(Dog, Cat):\n",
    "    def __init__(self, animal_type):\n",
    "        self.animal_type = animal_type\n",
    "\n",
    "    def __str__(self):\n",
    "        if self.animal_type == 'Dog':\n",
    "            return Dog.__str__(self)\n",
    "        elif self.animal_type == 'Cat':\n",
    "            return Cat.__str__(self)\n",
    "\n",
    "# pet1은 Dog 클래스로 생성\n",
    "pet1 = Pet('Dog')\n",
    "print(pet1)\n",
    "\n",
    "# pet2는 Cat 클래스로 생성\n",
    "pet2 = Pet('Cat')\n",
    "print(pet2)"
   ]
  },
  {
   "cell_type": "code",
   "execution_count": 17,
   "metadata": {},
   "outputs": [
    {
     "name": "stdout",
     "output_type": "stream",
     "text": [
      "양수입니다.\n"
     ]
    }
   ],
   "source": [
    "try:\n",
    "    n = int(input('숫자를 입력하세요 : '))\n",
    "    if n == 0:\n",
    "        print('0입니다.')\n",
    "\n",
    "    elif n > 0:\n",
    "        print('양수입니다.')\n",
    "\n",
    "    elif n < 0:\n",
    "        print('음수입니다')\n",
    "\n",
    "except ValueError:\n",
    "    print('잘못된 입력입니다.')\n"
   ]
  },
  {
   "cell_type": "code",
   "execution_count": null,
   "metadata": {},
   "outputs": [],
   "source": []
  },
  {
   "cell_type": "code",
   "execution_count": null,
   "metadata": {},
   "outputs": [],
   "source": []
  }
 ],
 "metadata": {
  "kernelspec": {
   "display_name": "Python 3",
   "language": "python",
   "name": "python3"
  },
  "language_info": {
   "codemirror_mode": {
    "name": "ipython",
    "version": 3
   },
   "file_extension": ".py",
   "mimetype": "text/x-python",
   "name": "python",
   "nbconvert_exporter": "python",
   "pygments_lexer": "ipython3",
   "version": "3.9.13"
  },
  "orig_nbformat": 4
 },
 "nbformat": 4,
 "nbformat_minor": 2
}
