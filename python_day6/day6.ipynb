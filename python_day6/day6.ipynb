{
 "cells": [
  {
   "cell_type": "code",
   "execution_count": 6,
   "metadata": {},
   "outputs": [
    {
     "name": "stdout",
     "output_type": "stream",
     "text": [
      "{1, 2, 3, 4}\n",
      "{1, 2, 3, 4, 5, 6, 7}\n",
      "{1, 2, 3, 4, 5, 6}\n",
      "{1, 2, 3}\n",
      "{4, 5, 6}\n",
      "{1, 2, 3, 4, 5, 6, 7, 8, 9}\n"
     ]
    }
   ],
   "source": [
    "# 6일차 반 내 실습\n",
    "\n",
    "# 세트 가변형 비시퀀스 -> 중복을 허용하지 않는다 -> 수학의 집합과 같은 특징\n",
    "\n",
    "list1 = [1, 2, 3]\n",
    "list2 = [4, 5, 6, 7, 8, 9]\n",
    "set1 = set(list1)\n",
    "set2 = set(list2)\n",
    "\n",
    "# 1. set1에 4 추가\n",
    "set1.add(4)\n",
    "print(set1)\n",
    "\n",
    "# 2. set1에 [5, 6, 7] 추가\n",
    "set1.update([5, 6, 7])\n",
    "print(set1)\n",
    "\n",
    "# 3. set1에서 7 제거(2가지 방법)\n",
    "set1.remove(7)         # 없으면 에러 발생\n",
    "set1.discard(7)         # 에러 발생 x\n",
    "print(set1)\n",
    "\n",
    "# 4. set1 차집합 set2 출력\n",
    "print(set1.difference(set2))\n",
    "\n",
    "# 5. set1 교집합 set2 출력\n",
    "print(set1.intersection(set2))\n",
    "\n",
    "# 6. set1 합집합 set2 출력\n",
    "print(set1.union(set2))\n"
   ]
  },
  {
   "cell_type": "code",
   "execution_count": 19,
   "metadata": {},
   "outputs": [
    {
     "name": "stdout",
     "output_type": "stream",
     "text": [
      "['빼기', '적자']\n",
      "['빼기', '적자']\n",
      "['빼기', '적자']\n",
      "dict_keys(['plus', 'minus', 'multiply', 'division'])\n",
      "dict_items([('plus', ['더하기', '장점']), ('minus', ['빼기', '적자']), ('multiply', ['곱하기', '다양하게']), ('division', ['나누기', '분열']), ('square', ['제곱', '사각형'])])\n",
      "{'plus': ['더하기', '장점'], 'multiply': ['곱하기', '다양하게'], 'division': ['나누기', '분열'], 'square': ['제곱', '사각형']}\n"
     ]
    }
   ],
   "source": [
    "# 실습 1. 영어 단어를 입력하면 단어의 뜻을 보여주는 프로그램\n",
    "dict1 = {\n",
    "    'plus': ['더하기', '장점'],\n",
    "    'minus': ['빼기', '적자'],\n",
    "    'multiply': ['곱하기', '다양하게'],\n",
    "    'division': ['나누기', '분열']\n",
    "}\n",
    "\n",
    "word = input('단어를 입력하세요')\n",
    "print(dict1[word])\n",
    "print(dict1.get(word))\n",
    "print(dict1.setdefault(word))\n",
    "\n",
    "# 실습 2. 영한사전에서 단어들의 목록을 출력\n",
    "print(dict1.keys())\n",
    "\n",
    "# 실습 3. 다음 단어와 뜻을 추가하고, 사전에 있는 모든 단어와 뜻을 출력 (3가지 방법)\n",
    "dict1['square'] = ['제곱', '사각형']       # 방법 1\n",
    "\n",
    "dict1.setdefault('square', ['제곱', '사각형'])   # 방법 2\n",
    "\n",
    "new_dict = {'square': ['제곱', '사각형']}   # 방법 3\n",
    "dict1.update(new_dict)\n",
    "\n",
    "print(dict1.items())\n",
    "\n",
    "\n",
    "# 실습 4. pop \n",
    "\n",
    "word2 = input()\n",
    "dict1.pop(word2)\n",
    "print(dict1)"
   ]
  },
  {
   "cell_type": "code",
   "execution_count": 22,
   "metadata": {},
   "outputs": [
    {
     "name": "stdout",
     "output_type": "stream",
     "text": [
      "Counter({'A': 3, 'B': 3, 'O': 3, 'AB': 3})\n"
     ]
    }
   ],
   "source": [
    "import collections\n",
    "\n",
    "blood_types = ['A', 'B', 'A', 'O', 'AB', 'AB', 'O', 'A', 'B', 'O', 'B', 'AB']\n",
    "# 결과 => {'A': 3, 'B': 3, 'O': 3, 'AB': 3}\n",
    "# Counter 메서드를 사용하여 실습 진행\n",
    "\n",
    "print(collections.Counter(blood_types))\n"
   ]
  },
  {
   "cell_type": "code",
   "execution_count": 31,
   "metadata": {},
   "outputs": [
    {
     "name": "stdout",
     "output_type": "stream",
     "text": [
      "2399095150144 2399095150144\n",
      "[5, 2, 3, 4] [5, 2, 3, 4]\n",
      "[1, 2, [99, 4]] [5, 2, [99, 4]] [1, 2, [99, 4]]\n",
      "[1, 2, [3, 4]] [1, 2, [5, 4]]\n"
     ]
    }
   ],
   "source": [
    "# 할당, 얕은복사, 깊은복사\n",
    "# 불변 데이터는 위 중 뭘하던 복사본이 존재하고 원본은 그대로 유지된다. \n",
    "# 가변 데이터에서 차이가 나타난다. \n",
    "\n",
    "# 1. 할당 : 원본 데이터가 변경된다.  할당을 하면 메모리 주소가 같다\n",
    "list1 = [1, 2, 3, 4]\n",
    "list2 = list1\n",
    "list2[0] = 5\n",
    "print(id(list1), id(list2))   # 2399094682880 2399094682880\n",
    "print(list1, list2)           # [5, 2, 3, 4] [5, 2, 3, 4]\n",
    "\n",
    "# 2. 얕은복사 : 슬라이싱, copy 2가지 방법이 있다. 객체 안에 객체가 있는 경우 원본 데이터가 변경된다. (리스트 안에 리스트)\n",
    "\n",
    "list1 = [1, 2, [3, 4]]\n",
    "list2 = list1[:]  # 전체를 슬라이싱\n",
    "list3 = list1.copy()  # 카피 \n",
    "\n",
    "\n",
    "list2[0] = 5             # 그냥 객체는 원본은 안바뀜\n",
    "list2[2][0] = 99         # 객체안 객체는 바꾸면 원본까지 모두 바뀜 \n",
    "\n",
    "print(list1, list2, list3)        # [1, 2, [99, 4]] [5, 2, [99, 4]] [1, 2, [99, 4]]\n",
    "\n",
    "# 3. 깊은 복사 : 원본 데이터가 변경되지 X\n",
    "import copy\n",
    "Three_list = [1, 2, [3, 4]]\n",
    "Three_list2 = copy.deepcopy(Three_list)\n",
    "\n",
    "Three_list2[2][0] = 5 \n",
    "\n",
    "print(Three_list, Three_list2)     # [1, 2, [3, 4]] [1, 2, [5, 4]]\n",
    "\n",
    "\n"
   ]
  },
  {
   "cell_type": "code",
   "execution_count": 34,
   "metadata": {},
   "outputs": [
    {
     "name": "stdout",
     "output_type": "stream",
     "text": [
      "{1, 2, 3, 4, 5}\n"
     ]
    }
   ],
   "source": [
    "# 데일리 실습 6\n",
    "\n",
    "def union_sets(a, b):\n",
    "    re = a.union(b)\n",
    "    return re\n",
    "\n",
    "result = union_sets({1, 2, 3}, {3, 4, 5})\n",
    "print(result)"
   ]
  },
  {
   "cell_type": "code",
   "execution_count": 37,
   "metadata": {},
   "outputs": [
    {
     "name": "stdout",
     "output_type": "stream",
     "text": [
      "Alice\n"
     ]
    }
   ],
   "source": [
    "# 6-2\n",
    "\n",
    "# 아래 함수를 수정하시오.\n",
    "def get_value_from_dict(a, b):\n",
    "    ans = a.get('name')\n",
    "    return ans\n",
    "\n",
    "my_dict = {'name': 'Alice', 'age': 25}\n",
    "result = get_value_from_dict(my_dict, 'name')\n",
    "print(result) # Alice"
   ]
  },
  {
   "cell_type": "code",
   "execution_count": 38,
   "metadata": {},
   "outputs": [
    {
     "name": "stdout",
     "output_type": "stream",
     "text": [
      "{3}\n"
     ]
    }
   ],
   "source": [
    "# 6-3\n",
    "\n",
    "# 아래 함수를 수정하시오.\n",
    "def intersection_sets(a, b):\n",
    "    ans = a.intersection(b)\n",
    "    return ans\n",
    "\n",
    "result = intersection_sets({1, 2, 3}, {3, 4, 5})\n",
    "print(result) # {3}\n"
   ]
  },
  {
   "cell_type": "code",
   "execution_count": 40,
   "metadata": {},
   "outputs": [
    {
     "name": "stdout",
     "output_type": "stream",
     "text": [
      "['name', 'age']\n"
     ]
    }
   ],
   "source": [
    "# 6-4\n",
    "\n",
    "def get_keys_from_dict(a):\n",
    "    return list(a.keys()) \n",
    "\n",
    "my_dict = {'name': 'Alice', 'age': 25}\n",
    "result = get_keys_from_dict(my_dict)\n",
    "print(result)"
   ]
  },
  {
   "cell_type": "code",
   "execution_count": 41,
   "metadata": {},
   "outputs": [
    {
     "name": "stdout",
     "output_type": "stream",
     "text": [
      "{1, 2}\n"
     ]
    }
   ],
   "source": [
    "# 6-5 \n",
    "\n",
    "# 아래 함수를 수정하시오.\n",
    "def difference_sets(a, b):\n",
    "    ans = a.difference(b)\n",
    "    return ans\n",
    "\n",
    "result = difference_sets({1, 2, 3}, {3, 4, 5})\n",
    "print(result)\n"
   ]
  },
  {
   "cell_type": "code",
   "execution_count": 42,
   "metadata": {},
   "outputs": [
    {
     "name": "stdout",
     "output_type": "stream",
     "text": [
      "{1, 2, 3, 4, 5}\n"
     ]
    }
   ],
   "source": [
    "# 데일리 과제 6-1\n",
    "\n",
    "def remove_duplicates_to_set(a):\n",
    "    ans = set(a)\n",
    "    return ans\n",
    "\t\t\n",
    "result = remove_duplicates_to_set([1, 2, 2, 3, 4, 4, 5])\n",
    "print(result)\n"
   ]
  },
  {
   "cell_type": "code",
   "execution_count": 45,
   "metadata": {},
   "outputs": [
    {
     "name": "stdout",
     "output_type": "stream",
     "text": [
      "{'name': 'Alice', 'age': 25, 'country': 'USA'}\n"
     ]
    }
   ],
   "source": [
    "# 6-2\n",
    "\n",
    "def add_item_to_dict(dictionary, a, b):\n",
    "    new_dict = dictionary.copy()\n",
    "    new_dict.setdefault(a, b)\n",
    "    return new_dict\n",
    "\n",
    "my_dict = {'name': 'Alice', 'age': 25}\n",
    "result = add_item_to_dict(my_dict, 'country', 'USA')\n",
    "print(result)"
   ]
  },
  {
   "cell_type": "code",
   "execution_count": 51,
   "metadata": {},
   "outputs": [
    {
     "name": "stdout",
     "output_type": "stream",
     "text": [
      "#########"
     ]
    }
   ],
   "source": [
    "# SWEA 2046. 스탬프 찍기\n",
    "\n",
    "n = int(input())\n",
    "\n",
    "for i in range(0,n):\n",
    "    print('#', end='')"
   ]
  },
  {
   "cell_type": "code",
   "execution_count": 58,
   "metadata": {},
   "outputs": [
    {
     "name": "stdout",
     "output_type": "stream",
     "text": [
      "24\n"
     ]
    }
   ],
   "source": [
    "# SWEA 2043. 서랍의 비밀번호\n",
    "\n",
    "P, K = map(int, input().split())\n",
    "\n",
    "count = 0 \n",
    "\n",
    "if K < P:\n",
    "    while K <=P:\n",
    "        K += 1\n",
    "        count += 1\n",
    "    print(count)\n",
    "elif K == P:\n",
    "    print(0)\n",
    "else:\n",
    "    while K <= (999+P):\n",
    "        K += 1\n",
    "        count += 1\n",
    "    print(count)"
   ]
  },
  {
   "cell_type": "code",
   "execution_count": 62,
   "metadata": {},
   "outputs": [
    {
     "name": "stdout",
     "output_type": "stream",
     "text": [
      "#1 4 1\n",
      "#2 2 3\n",
      "#3 24 9\n"
     ]
    }
   ],
   "source": [
    "# SWEA 2029. 몫과 나머지 출력하기\n",
    "\n",
    "T = int(input())\n",
    "\n",
    "for tc in range(1, T+1):\n",
    "    a, b = map(int, input().split())\n",
    "    mok = a // b\n",
    "    na = a % b\n",
    "    print(f'#{tc} {mok} {na}')\n",
    "\n",
    "\n"
   ]
  },
  {
   "cell_type": "code",
   "execution_count": 67,
   "metadata": {},
   "outputs": [
    {
     "name": "stdout",
     "output_type": "stream",
     "text": [
      "#++++\n",
      "+#+++\n",
      "++#++\n",
      "+++#+\n",
      "++++#\n"
     ]
    }
   ],
   "source": [
    "# SWEA 2027. 대각선 출력하기\n",
    "\n",
    "for i in range(5):\n",
    "    for j in range(5):\n",
    "        if i == j:\n",
    "            print('#', end='')\n",
    "        else:\n",
    "            print('+', end='')\n",
    "    print('')"
   ]
  },
  {
   "cell_type": "code",
   "execution_count": 68,
   "metadata": {},
   "outputs": [
    {
     "name": "stdout",
     "output_type": "stream",
     "text": [
      "55\n"
     ]
    }
   ],
   "source": [
    "# SWEA 2025. N줄덧셈\n",
    "\n",
    "n = int(input())\n",
    "\n",
    "ans = 0\n",
    "for i in range(1, n+1):\n",
    "    ans += i\n",
    "print(ans)"
   ]
  },
  {
   "cell_type": "code",
   "execution_count": 70,
   "metadata": {},
   "outputs": [
    {
     "name": "stdout",
     "output_type": "stream",
     "text": [
      "11\n",
      "5\n",
      "24\n",
      "2\n"
     ]
    }
   ],
   "source": [
    "# SWEA 1938. 아주 간단한 계산기\n",
    "\n",
    "a, b = map(int, input().split())\n",
    "print(a + b)\n",
    "print(a - b)\n",
    "print(a * b)\n",
    "print(a // b)"
   ]
  },
  {
   "cell_type": "code",
   "execution_count": 75,
   "metadata": {},
   "outputs": [
    {
     "name": "stdout",
     "output_type": "stream",
     "text": [
      "1 3 9 27 37 111 333 999 "
     ]
    }
   ],
   "source": [
    "# SWEA 1933. 간단한 N의 약수\n",
    "\n",
    "N = int(input())\n",
    "\n",
    "for i in range(1,N+1):\n",
    "    if N % i == 0:\n",
    "        print(i, end = ' ')"
   ]
  },
  {
   "cell_type": "code",
   "execution_count": 76,
   "metadata": {},
   "outputs": [
    {
     "name": "stdout",
     "output_type": "stream",
     "text": [
      "A\n"
     ]
    }
   ],
   "source": [
    "# SWEA 1936. 1대1 가위바위보\n",
    "\n",
    "A, B = map(int, input().split())\n",
    "\n",
    "if A == 1:\n",
    "    if B == 2:\n",
    "        print('B')\n",
    "    elif B == 3:\n",
    "        print('A')\n",
    "elif A == 2:\n",
    "    if B == 1:\n",
    "        print('A')\n",
    "    elif B == 3:\n",
    "        print('B')\n",
    "elif A == 3:\n",
    "    if B == 1:\n",
    "        print('B')\n",
    "    elif B == 2:\n",
    "        print('A')"
   ]
  },
  {
   "cell_type": "code",
   "execution_count": 79,
   "metadata": {},
   "outputs": [
    {
     "name": "stdout",
     "output_type": "stream",
     "text": [
      "1 2 4 8 16 32 64 128 256 "
     ]
    }
   ],
   "source": [
    "# SWEA 2019. 더블더블\n",
    "\n",
    "N = int(input())\n",
    "\n",
    "for i in range(0, N+1):\n",
    "    print(2 ** i, end = ' ')"
   ]
  },
  {
   "cell_type": "code",
   "execution_count": 80,
   "metadata": {},
   "outputs": [
    {
     "name": "stdout",
     "output_type": "stream",
     "text": [
      "8 7 6 5 4 3 2 1 0 "
     ]
    }
   ],
   "source": [
    "# SWEA 1545. 거꾸로 출력해 보아요\n",
    "\n",
    "N = int(input())\n",
    "\n",
    "for i in range(0, N+1):\n",
    "    print(N-i, end = ' ')"
   ]
  },
  {
   "cell_type": "code",
   "execution_count": 91,
   "metadata": {},
   "outputs": [
    {
     "ename": "IndexError",
     "evalue": "list index out of range",
     "output_type": "error",
     "traceback": [
      "\u001b[1;31m---------------------------------------------------------------------------\u001b[0m",
      "\u001b[1;31mIndexError\u001b[0m                                Traceback (most recent call last)",
      "Cell \u001b[1;32mIn[91], line 21\u001b[0m\n\u001b[0;32m     19\u001b[0m \u001b[39mwhile\u001b[39;00m count \u001b[39m<\u001b[39m N \u001b[39m*\u001b[39m\u001b[39m*\u001b[39m \u001b[39m2\u001b[39m:\n\u001b[0;32m     20\u001b[0m     count \u001b[39m+\u001b[39m\u001b[39m=\u001b[39m \u001b[39m1\u001b[39m\n\u001b[1;32m---> 21\u001b[0m     \u001b[39mif\u001b[39;00m row[i][j\u001b[39m+\u001b[39;49m\u001b[39m1\u001b[39;49m] \u001b[39m==\u001b[39m \u001b[39m0\u001b[39m \u001b[39mand\u001b[39;00m (j \u001b[39m+\u001b[39m \u001b[39m1\u001b[39m) \u001b[39m<\u001b[39m N:\n\u001b[0;32m     22\u001b[0m         j \u001b[39m+\u001b[39m\u001b[39m=\u001b[39m \u001b[39m1\u001b[39m\n\u001b[0;32m     23\u001b[0m         row[i][j] \u001b[39m=\u001b[39m count\n",
      "\u001b[1;31mIndexError\u001b[0m: list index out of range"
     ]
    }
   ],
   "source": [
    "# #SWEA 1954. 달팽이 숫자    # 나중에 다시 풀기..\n",
    "\n",
    "\n",
    "# T = int(input())\n",
    "\n",
    "# for tc in range(1, T+1):\n",
    "    \n",
    "#     N = int(input())\n",
    "#     row = []\n",
    "#     line = []\n",
    "#     for i in range(N):\n",
    "        \n",
    "#         line.append(0)\n",
    "#         row.append(line)\n",
    "#     count = 1\n",
    "#     i = 0\n",
    "#     j = 0\n",
    "#     row[i][j] = count\n",
    "#     while count < N ** 2:\n",
    "#         count += 1\n",
    "#         if row[i][j+1] == 0 and (j + 1) < N:\n",
    "#             j += 1\n",
    "#             row[i][j] = count\n",
    "#             if j == N:\n",
    "#                 j -= 1\n",
    "#         if row[i][j-1] != 0 and (j + 1) == N and row[i+1][j] == 0:\n",
    "#             for a in range(i, N-1):\n",
    "#                 i += 1\n",
    "#                 row[i][j] = count\n",
    "#                 count += 1\n",
    "#                 if i == N:\n",
    "#                     i -= 1\n",
    "#         if row[i-1][j] != 0 and (i+1) == N and row[i][j-1] == 0:\n",
    "#             for b in range(j, j+N-1):\n",
    "#                 j -= 1\n",
    "#                 row[i][j] = count\n",
    "#                 count += 1\n",
    "#                 if j - 1 < 0:\n",
    "#                     j += 1\n",
    "        \n",
    "#         # if row[i][j+1] != 0 and (j - 1) < 0 and row[i-1][j] == 0:\n",
    "#         #     for \n",
    "        \n",
    "\n",
    "\n",
    "#     print(f'#{tc} {row}')\n"
   ]
  },
  {
   "cell_type": "code",
   "execution_count": 106,
   "metadata": {},
   "outputs": [
    {
     "name": "stdout",
     "output_type": "stream",
     "text": [
      "1 2 - 4 5 - 7 8 - 10 11 12 - 14 15 - 17 18 - 20 21 22 - 24 25 - 27 28 - - - - -- - - -- - - -- 40 41 42 - 44 45 - 47 48 - 50 51 52 - 54 55 - 57 58 - - - - -- - - -- - - -- 70 71 72 - 74 75 - 77 78 - 80 81 82 - 84 85 - 87 88 - - - - -- - - -- - - -- 100 101 102 - 104 105 - 107 108 - 110 111 112 - 114 115 - 117 118 - 120 121 122 - 124 125 - 127 128 - - - - -- - - -- - - -- 140 141 142 - 144 145 - 147 148 - 150 151 152 - 154 155 - 157 158 - - - - -- - - -- - - -- 170 171 172 - 174 175 - 177 178 - 180 181 182 - 184 185 - 187 188 - - - - -- - - -- - - -- 200 201 202 - 204 205 - 207 208 - 210 211 212 - 214 215 - 217 218 - 220 221 222 - 224 225 - 227 228 - - - - -- - - -- - - -- 240 241 242 - 244 245 - 247 248 - 250 251 252 - 254 255 - 257 258 - - - - -- - - -- - - -- 270 271 272 - 274 275 - 277 278 - 280 281 282 - 284 285 - 287 288 - - - - -- - - -- - - -- - - - -- - - - -- - - - -- - - - - -- - - - -- - - - -- - - - - -- - - - -- - - - -- - -- -- -- --- "
     ]
    }
   ],
   "source": [
    "# SWEA 1926. 간단한 369 게임\n",
    "\n",
    "N = int(input())\n",
    "\n",
    "for i in range(1, N+1):\n",
    "    if i < 10:\n",
    "        if i == 3 or i == 6 or i == 9:\n",
    "            print('-', end = ' ')\n",
    "        else:\n",
    "            print(i, end = ' ')\n",
    "    \n",
    "    elif 10 <= i < 100:\n",
    "        if i // 10 == 3 or i // 10 == 6 or i // 10 == 9:\n",
    "            if i % 10 == 3 or i % 10 == 6 or i % 10 == 9:\n",
    "                print('--', end = ' ')\n",
    "            else:\n",
    "                print('-', end = ' ')\n",
    "        else:\n",
    "            if i % 10 == 3 or i % 10 == 6 or i % 10 == 9:\n",
    "                print('-', end = ' ')\n",
    "                continue\n",
    "            print(i, end = ' ')\n",
    "    \n",
    "    elif 100 <= i < 1000:\n",
    "        if i // 100 == 3 or i // 100 == 6 or i // 100 == 9:\n",
    "            if i % 100 // 10 == 3 or i % 100 // 10 == 6 or i % 100 // 10 == 9:\n",
    "                if i % 100 % 10 == 3 or i % 100 % 10 == 6 or i % 100 % 10 == 9:\n",
    "                    print('---', end = ' ')\n",
    "                else:\n",
    "                    print('--', end = ' ')\n",
    "            else:\n",
    "                if i % 100 % 10 == 3 or i % 100 % 10 == 6 or i % 100 % 10 == 9:\n",
    "                    print('--', end = ' ')\n",
    "                print('-', end = ' ')\n",
    "        else:\n",
    "            if i % 100 // 10 == 3 or i % 100 // 10 == 6 or i % 100 // 10 == 9:\n",
    "                if i % 100 % 10 == 3 or i % 100 % 10 == 6 or i % 100 % 10 == 9:\n",
    "                    print('--', end = ' ')\n",
    "                else:\n",
    "                    print('-', end = ' ')\n",
    "            else:\n",
    "                if i % 100 % 10 == 3 or i % 100 % 10 == 6 or i % 100 % 10 == 9:\n",
    "                    print('-', end = ' ')\n",
    "                    continue\n",
    "                print(i, end = ' ')\n",
    "\n",
    "    elif i == 1000:\n",
    "        print(i, end = ' ')\n"
   ]
  },
  {
   "cell_type": "code",
   "execution_count": 119,
   "metadata": {},
   "outputs": [
    {
     "name": "stdout",
     "output_type": "stream",
     "text": [
      "#1 5\n",
      "#2 7\n"
     ]
    }
   ],
   "source": [
    "# SWEA 2007. 패턴 마디의 길이\n",
    "\n",
    "def find_madi(input_str):\n",
    "    n = len(input_str)\n",
    "    for i in range(1, 11):  # 마디의 최대 길이는 10이므로 1부터 10까지 검사합니다.\n",
    "        if input_str[:i] == input_str[i:i+i]:  # 마디의 길이 i를 가정하여 앞부분과 i만큼 뒤에 있는 부분이 같은지 검사합니다.\n",
    "            return i\n",
    "\n",
    "    return n  # 1부터 10까지의 길이로 마디를 찾지 못한 경우에는 전체 문자열의 길이를 반환합니다.\n",
    "\n",
    "\n",
    "T = int(input())\n",
    "\n",
    "for tc in range(1, T + 1):\n",
    "    input_str = input()\n",
    "    madi_length = find_madi(input_str)\n",
    "    print(f\"#{tc} {madi_length}\")"
   ]
  },
  {
   "cell_type": "code",
   "execution_count": 128,
   "metadata": {},
   "outputs": [
    {
     "name": "stdout",
     "output_type": "stream",
     "text": [
      "#1 4\n"
     ]
    }
   ],
   "source": [
    "T = int(input())\n",
    "\n",
    "for tc in range(1, T + 1):\n",
    "    numbers = list(map(int, input().split()))\n",
    "    numbers.sort()\n",
    "    numbers.pop(0)\n",
    "    numbers.pop(len(numbers)-1)\n",
    "    sum = 0\n",
    "    for num in numbers:\n",
    "        sum = sum + num\n",
    "        ans = sum / (len(numbers))\n",
    "        ans = int(round(ans, 0))\n",
    "    print(f'#{tc} {ans}')\n",
    "    "
   ]
  },
  {
   "cell_type": "code",
   "execution_count": null,
   "metadata": {},
   "outputs": [],
   "source": []
  }
 ],
 "metadata": {
  "kernelspec": {
   "display_name": "Python 3",
   "language": "python",
   "name": "python3"
  },
  "language_info": {
   "codemirror_mode": {
    "name": "ipython",
    "version": 3
   },
   "file_extension": ".py",
   "mimetype": "text/x-python",
   "name": "python",
   "nbconvert_exporter": "python",
   "pygments_lexer": "ipython3",
   "version": "3.9.13"
  },
  "orig_nbformat": 4
 },
 "nbformat": 4,
 "nbformat_minor": 2
}
