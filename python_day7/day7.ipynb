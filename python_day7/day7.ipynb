{
 "cells": [
  {
   "cell_type": "code",
   "execution_count": 1,
   "metadata": {},
   "outputs": [
    {
     "name": "stdout",
     "output_type": "stream",
     "text": [
      "kai\n"
     ]
    }
   ],
   "source": [
    "# 객체지향 프로그래밍 : 메서드를 하나의 객체로 묶어 관리하는 프로그래밍 패러다ㅣㅇㅁ\n",
    "# num = [10, 20]\n",
    "# print(sum(num))\n",
    "\n",
    "# 객체.메서드()\n",
    "# 'abc'.upper()\n",
    "# #인스턴스? 인스턴스는 객체와 같은말\n",
    "# #객체만 지칭할 때는 객체, 클래와서 연관지어 부를때는 인스턴스\n",
    "# # 인스턴스.메서드()\n",
    "\n",
    "class Person:\n",
    "    name = 'kai'  # 클래스 변수 == 멤버 변수\n",
    "\n",
    "# 실습  1. 클래스 변수에 접근하여 kai를 출력해 보세요\n",
    "# 1) 인스턴스 생성  (인스턴스 = 클래스명())\n",
    "kai = Person()\n",
    "# 2) 클래스변수 호출 (인스턴스.클래스변수)\n",
    "print(kai.name)\n",
    "\n"
   ]
  },
  {
   "cell_type": "code",
   "execution_count": 4,
   "metadata": {},
   "outputs": [
    {
     "name": "stdout",
     "output_type": "stream",
     "text": [
      "Welcome.\n"
     ]
    }
   ],
   "source": [
    "class Person:\n",
    "    def say(self):\n",
    "        print('Welcome.')\n",
    "\n",
    "# 실습 2. say() 메서드를 호출해 보세요.\n",
    "kai = Person()     # 인스턴스 생성\n",
    "kai.say()         # 인스턴스 메서드 호출 "
   ]
  },
  {
   "cell_type": "code",
   "execution_count": 6,
   "metadata": {},
   "outputs": [
    {
     "name": "stdout",
     "output_type": "stream",
     "text": [
      "Welcome. kai\n"
     ]
    }
   ],
   "source": [
    "class Person:\n",
    "    def __init__(self, name):\n",
    "        self.name = name\n",
    "\n",
    "    def say(self):\n",
    "        print(f'Welcome. {self.name}')\n",
    "\n",
    "\n",
    "# 실습 3. say()메서드를 호출해 보세요\n",
    "\n",
    "kai = Person('kai')\n",
    "kai.say()\n",
    "\n",
    "\n"
   ]
  },
  {
   "cell_type": "code",
   "execution_count": 8,
   "metadata": {},
   "outputs": [
    {
     "name": "stdout",
     "output_type": "stream",
     "text": [
      "Sonata\n",
      "White\n",
      "speed : 80\n"
     ]
    }
   ],
   "source": [
    "# 클래스 -> Car\n",
    "# 객체 -> Hyindai, Kia, Porche, BMW, Benz ...\n",
    "\n",
    "class Car:\n",
    "    model = 'Sonata'   # 클래스변수(멤버변수)\n",
    "    color = 'White'\n",
    "\n",
    "    def speedchange(self, v):\n",
    "        print(f'speed : {v}')\n",
    "        self.speed = v\n",
    "\n",
    "\n",
    "# Sonata 출력, White 출력, speed : 80 출력\n",
    "\n",
    "new_car = Car()\n",
    "print(new_car.model)\n",
    "print(new_car.color)\n",
    "\n",
    "new_car.speedchange(80)"
   ]
  },
  {
   "cell_type": "code",
   "execution_count": 12,
   "metadata": {},
   "outputs": [
    {
     "name": "stdout",
     "output_type": "stream",
     "text": [
      "model : Sonata, color : White, speed : 80\n"
     ]
    }
   ],
   "source": [
    "# ---> 생성자 메서드 구조로 바꾸기\n",
    "# model : Sonata, color : white, speed : 80\n",
    "\n",
    "class Car:\n",
    "\n",
    "    def __init__(self, model, color, speed):     # 생성자 함수\n",
    "        self.model = model         # 인스턴스 변수\n",
    "        self.color = color\n",
    "        self.speed = speed\n",
    "    \n",
    "    def info(self):   # 인스턴스 메서드\n",
    "        print(f'model : {self.model}, color : {self.color}, speed : {self.speed}')\n",
    "\n",
    "new_car = Car('Sonata', 'White', '80')  \n",
    "new_car.info()"
   ]
  },
  {
   "cell_type": "code",
   "execution_count": 14,
   "metadata": {},
   "outputs": [
    {
     "name": "stdout",
     "output_type": "stream",
     "text": [
      "직업 : 가수 생일 : 1993년 5월 16일 국적 : 대한민국\n",
      "랩\n",
      "댄스\n",
      "소몰이\n"
     ]
    }
   ],
   "source": [
    "class Singer:\n",
    "\n",
    "    def __init__(self):\n",
    "        self.job = '가수'\n",
    "        self.birthday = '1993년 5월 16일'\n",
    "        self.counrty = '대한민국'\n",
    "\n",
    "    def rap(self):\n",
    "        print('랩')\n",
    "\n",
    "    def dance(self):\n",
    "        print('댄스')\n",
    "\n",
    "    def somol(self):\n",
    "        print('소몰이')\n",
    "\n",
    "# 인스턴스 생성, 인스턴스 속성 출력, 인스턴스 메서드 호출\n",
    "someone = Singer()\n",
    "print(f'직업 : {someone.job} 생일 : {someone.birthday} 국적 : {someone.counrty}')\n",
    "someone.rap()\n",
    "someone.dance()\n",
    "someone.somol()\n"
   ]
  },
  {
   "cell_type": "code",
   "execution_count": 15,
   "metadata": {},
   "outputs": [
    {
     "name": "stdout",
     "output_type": "stream",
     "text": [
      "5 3\n"
     ]
    }
   ],
   "source": [
    "# 데일리 실습 7일차 \n",
    "\n",
    "# 7 -1 아래 클래스를 수정하시오.\n",
    "class Shape:\n",
    "   def __init__(self, width, height):\n",
    "      self.width = width\n",
    "      self.height = height\n",
    "\n",
    "shape1 = Shape(5, 3)\n",
    "print(shape1.width, shape1.height)"
   ]
  },
  {
   "cell_type": "code",
   "execution_count": 17,
   "metadata": {},
   "outputs": [
    {
     "name": "stdout",
     "output_type": "stream",
     "text": [
      "15\n"
     ]
    }
   ],
   "source": [
    "# ws_7_2.py\n",
    "\n",
    "# 아래 클래스를 수정하시오.\n",
    "class Shape:\n",
    "    def __init__(self, width, height):\n",
    "        self.width = width\n",
    "        self.height = height\n",
    "    \n",
    "    def calculate_area(self):\n",
    "        return (self.width * self.height)\n",
    "\n",
    "\n",
    "shape1 = Shape(5, 3)\n",
    "area1 = shape1.calculate_area()\n",
    "print(area1)\n"
   ]
  },
  {
   "cell_type": "code",
   "execution_count": 18,
   "metadata": {},
   "outputs": [
    {
     "name": "stdout",
     "output_type": "stream",
     "text": [
      "16\n"
     ]
    }
   ],
   "source": [
    "# ws_7_3.py\n",
    "\n",
    "# 아래 클래스를 수정하시오.\n",
    "class Shape:\n",
    "    def __init__(self, width, height):\n",
    "        self.width = width\n",
    "        self.height = height\n",
    "    \n",
    "    def calculate_perimeter(self):\n",
    "        perimeter = (self.width + self.height) * 2\n",
    "        \n",
    "        return perimeter\n",
    "\n",
    "shape1 = Shape(5, 3)\n",
    "perimeter1 = shape1.calculate_perimeter()\n",
    "print(perimeter1)"
   ]
  },
  {
   "cell_type": "code",
   "execution_count": 19,
   "metadata": {},
   "outputs": [
    {
     "name": "stdout",
     "output_type": "stream",
     "text": [
      "Width : 5\n",
      "Height : 3\n",
      "area : 15\n",
      "perimeter : 16\n"
     ]
    }
   ],
   "source": [
    "# 7-4\n",
    "\n",
    "class Shape:\n",
    "    def __init__(self, width, height):\n",
    "        self.width = width\n",
    "        self.height = height   \n",
    "    \n",
    "    def print_info(self):\n",
    "        area = self.width * self.height\n",
    "        perimeter = (self.width + self.height) * 2\n",
    "        \n",
    "        print(f'Width : {self.width}')\n",
    "        print(f'Height : {self.height}')\n",
    "        print(f'area : {area}')\n",
    "        print(f'perimeter : {perimeter}')\n",
    "    \n",
    "\n",
    "shape1 = Shape(5, 3)\n",
    "shape1.print_info()"
   ]
  },
  {
   "cell_type": "code",
   "execution_count": 21,
   "metadata": {},
   "outputs": [
    {
     "name": "stdout",
     "output_type": "stream",
     "text": [
      "Shape: width=5, height=3\n"
     ]
    }
   ],
   "source": [
    "class Shape:\n",
    "    def __init__(self, width, height):\n",
    "        self.width = width\n",
    "        self.height = height   \n",
    "\n",
    "    def __str__(self):\n",
    "        return f'Shape: width={self.width}, height={self.height}'\n",
    "\n",
    "shape1 = Shape(5, 3)\n",
    "print(shape1)"
   ]
  },
  {
   "cell_type": "code",
   "execution_count": 26,
   "metadata": {},
   "outputs": [
    {
     "name": "stdout",
     "output_type": "stream",
     "text": [
      "Hello\n",
      "Hello\n",
      "Hello\n"
     ]
    }
   ],
   "source": [
    "# hw_7_2.py\n",
    "\n",
    "# 아래 클래스를 수정하시오.\n",
    "class StringRepeater:\n",
    "   \n",
    "    def repeat_string(self, num, string):\n",
    "        for i in range(0, num):\n",
    "            print(string)\n",
    "\n",
    "repeater1 = StringRepeater()\n",
    "repeater1.repeat_string(3, \"Hello\")"
   ]
  },
  {
   "cell_type": "code",
   "execution_count": 37,
   "metadata": {},
   "outputs": [
    {
     "name": "stdout",
     "output_type": "stream",
     "text": [
      "제 이름은 Alice 이고, 저는 25 살 입니다.\n",
      "1\n"
     ]
    }
   ],
   "source": [
    "# hw_7_4.py\n",
    "\n",
    "# 아래 클래스를 수정하시오.\n",
    "class Person:\n",
    "\n",
    "   number_of_people = 0\n",
    "\n",
    "   def __init__(self, name, age):\n",
    "      self.name = name\n",
    "      self.age = age\n",
    "      Person.number_of_people += 1\n",
    "   \n",
    "   def introduce(self):\n",
    "      print(f'제 이름은 {self.name} 이고, 저는 {self.age} 살 입니다.')\n",
    "\n",
    "person1 = Person(\"Alice\", 25)\n",
    "person1.introduce()\n",
    "print(Person.number_of_people)\n",
    "\n"
   ]
  },
  {
   "cell_type": "code",
   "execution_count": 27,
   "metadata": {},
   "outputs": [
    {
     "name": "stdout",
     "output_type": "stream",
     "text": [
      "2\n"
     ]
    }
   ],
   "source": [
    "# 클래스 변수의 활용\n",
    "\n",
    "class Person():\n",
    "\n",
    "    count = 0   # 클래스 변수\n",
    "\n",
    "    def __init__(self, name):     # 생성자 함수\n",
    "        self.name = name   # 인스턴스 변수\n",
    "        Person.count += 1\n",
    "\n",
    "# 인스턴스를 생성 할떄마다 count 가 1씩 증가 \n",
    "person1 = Person('에스파')\n",
    "person2 = Person('뉴진스')\n",
    "\n",
    "# 속성 접근\n",
    "print(Person.count)"
   ]
  },
  {
   "cell_type": "code",
   "execution_count": 29,
   "metadata": {},
   "outputs": [
    {
     "data": {
      "text/plain": [
       "'ABC'"
      ]
     },
     "execution_count": 29,
     "metadata": {},
     "output_type": "execute_result"
    }
   ],
   "source": [
    "# 인스턴스 메서드의 예 \n",
    "\n",
    "'abc'.upper()   # == str.upper('abc')\n",
    "\n"
   ]
  },
  {
   "cell_type": "code",
   "execution_count": 30,
   "metadata": {},
   "outputs": [
    {
     "name": "stdout",
     "output_type": "stream",
     "text": [
      "직업 : 가수 생일 : 1993년 5월 16일 국적 : 대한민국\n",
      "랩\n",
      "댄스\n",
      "소몰이\n"
     ]
    }
   ],
   "source": [
    "# 클래스 메서드 실습\n",
    "\n",
    "class Singer:\n",
    "\n",
    "    job = '가수'                       # 클래스 변수\n",
    "    birthday = '1993년 5월 16일'\n",
    "    counrty = '대한민국'\n",
    "\n",
    "    @classmethod\n",
    "    def rap(cls):\n",
    "        print('랩')\n",
    "\n",
    "    @classmethod\n",
    "    def dance(cls):\n",
    "        print('댄스')\n",
    "\n",
    "    @classmethod\n",
    "    def somol(cls):\n",
    "        print('소몰이')\n",
    "\n",
    "# 인스턴스 생성, 인스턴스 속성 출력, 인스턴스 메서드 호출\n",
    "someone = Singer()\n",
    "print(f'직업 : {someone.job} 생일 : {someone.birthday} 국적 : {someone.counrty}')\n",
    "someone.rap()\n",
    "someone.dance()\n",
    "someone.somol()\n"
   ]
  },
  {
   "cell_type": "code",
   "execution_count": 31,
   "metadata": {},
   "outputs": [
    {
     "name": "stdout",
     "output_type": "stream",
     "text": [
      "직업 : 가수 생일 : 1993년 5월 16일 국적 : 대한민국\n",
      "랩\n",
      "댄스\n",
      "소몰이\n"
     ]
    }
   ],
   "source": [
    "# 스태틱 메서드 실습\n",
    "\n",
    "class Singer:\n",
    "\n",
    "    job = '가수'                       # 클래스 변수\n",
    "    birthday = '1993년 5월 16일'\n",
    "    counrty = '대한민국'\n",
    "\n",
    "    @staticmethod\n",
    "    def rap():\n",
    "        print('랩')\n",
    "\n",
    "    @staticmethod\n",
    "    def dance():\n",
    "        print('댄스')\n",
    "\n",
    "    @staticmethod\n",
    "    def somol():\n",
    "        print('소몰이')\n",
    "\n",
    "# 인스턴스 생성, 인스턴스 속성 출력, 인스턴스 메서드 호출\n",
    "someone = Singer()\n",
    "print(f'직업 : {someone.job} 생일 : {someone.birthday} 국적 : {someone.counrty}')\n",
    "someone.rap()\n",
    "someone.dance()\n",
    "someone.somol()"
   ]
  },
  {
   "cell_type": "code",
   "execution_count": 34,
   "metadata": {},
   "outputs": [
    {
     "name": "stdout",
     "output_type": "stream",
     "text": [
      "[원] raduys: 10\n",
      "[원] raduys: 1\n"
     ]
    }
   ],
   "source": [
    "class Circle:\n",
    "    def __init__(self, r):\n",
    "        self.r = r\n",
    "\n",
    "    def area(self):\n",
    "        return 3.14 * self.r * self.r\n",
    "    \n",
    "    def __str__(self):\n",
    "        return f'[원] raduys: {self.r}'\n",
    "    \n",
    "c1 = Circle(10)\n",
    "c2 = Circle(1)\n",
    "\n",
    "print(c1)\n",
    "print(c2)"
   ]
  },
  {
   "cell_type": "code",
   "execution_count": 36,
   "metadata": {},
   "outputs": [
    {
     "name": "stdout",
     "output_type": "stream",
     "text": [
      "함수 실행전\n",
      "원본 함수 실행\n",
      "함수 실행 후\n"
     ]
    }
   ],
   "source": [
    "def my_decorator(func):\n",
    "    def wrapper():\n",
    "        print('함수 실행전')\n",
    "        result = func()\n",
    "        print('함수 실행 후')\n",
    "        return result\n",
    "    return wrapper\n",
    "\n",
    "@my_decorator\n",
    "def my_function():\n",
    "    print('원본 함수 실행')\n",
    "\n",
    "my_function()\n",
    "\n",
    "'''\n",
    "함수 실행 전\n",
    "원본 함수 실행\n",
    "함수 실행 후\n",
    "'''"
   ]
  },
  {
   "cell_type": "code",
   "execution_count": 40,
   "metadata": {},
   "outputs": [
    {
     "name": "stdout",
     "output_type": "stream",
     "text": [
      "#1 3\n",
      "#2 -3\n"
     ]
    }
   ],
   "source": [
    "# SWEA 1986. 지그재그 숫자\n",
    "\n",
    "T = int(input())\n",
    "\n",
    "for tc in range(1, T+1):\n",
    "    N = int(input())\n",
    "    ans = 0\n",
    "    for n in range(1, N+1):\n",
    "        if n % 2 == 1:\n",
    "            ans += n\n",
    "        else:\n",
    "            ans -= n\n",
    "\n",
    "    print(f'#{tc} {ans}') "
   ]
  },
  {
   "cell_type": "code",
   "execution_count": 41,
   "metadata": {},
   "outputs": [
    {
     "name": "stdout",
     "output_type": "stream",
     "text": [
      "#1 49\n"
     ]
    }
   ],
   "source": [
    "# SWEA 2001. 파리 퇴치\n",
    "\n",
    "T = int(input())\n",
    "\n",
    "for tc in range(1, T+1):\n",
    "    N, M = map(int, input().split())\n",
    "    \n",
    "    bae = []\n",
    "    for _ in range(N):\n",
    "        a = list(map(int, input().split()))\n",
    "        bae.append(a)\n",
    "\n",
    "    max = 0\n",
    "\n",
    "    for i in range(N-(M-1)):\n",
    "        for k in range(N-(M-1)):\n",
    "            temp = 0\n",
    "            for l in range(i, i+M):\n",
    "                for o in range(k, k+M):\n",
    "                    temp += bae[l][o]\n",
    "            if temp > max:\n",
    "                max = temp\n",
    "    print(f'#{tc} {max}')\n",
    "\n",
    "\n"
   ]
  },
  {
   "cell_type": "code",
   "execution_count": 42,
   "metadata": {},
   "outputs": [
    {
     "name": "stdout",
     "output_type": "stream",
     "text": [
      "10\n",
      "0\n"
     ]
    }
   ],
   "source": [
    "# solve ac 엄청난 부자2\n",
    "\n",
    "n, m = map(int, input().split())\n",
    "\n",
    "ans = n // m \n",
    "ans2 = n % m\n",
    "\n",
    "print(ans)\n",
    "print(ans2)"
   ]
  },
  {
   "cell_type": "code",
   "execution_count": null,
   "metadata": {},
   "outputs": [],
   "source": []
  }
 ],
 "metadata": {
  "kernelspec": {
   "display_name": "Python 3",
   "language": "python",
   "name": "python3"
  },
  "language_info": {
   "codemirror_mode": {
    "name": "ipython",
    "version": 3
   },
   "file_extension": ".py",
   "mimetype": "text/x-python",
   "name": "python",
   "nbconvert_exporter": "python",
   "pygments_lexer": "ipython3",
   "version": "3.9.13"
  },
  "orig_nbformat": 4
 },
 "nbformat": 4,
 "nbformat_minor": 2
}
