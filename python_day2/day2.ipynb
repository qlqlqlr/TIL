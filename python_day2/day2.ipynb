{
 "cells": [
  {
   "cell_type": "code",
   "execution_count": 5,
   "metadata": {},
   "outputs": [
    {
     "name": "stdout",
     "output_type": "stream",
     "text": [
      "1010\n",
      "12\n",
      "a\n"
     ]
    }
   ],
   "source": [
    "decimal = 10\n",
    "#1. 2진수로 출력해 보세요\n",
    "binary = bin(decimal)[2:]\n",
    "print(binary)\n",
    "\n",
    "#2. 8진수로 출력해 보세요\n",
    "oct = oct(decimal)[2:]\n",
    "print(oct)\n",
    "\n",
    "#3. 16진수로 출력해 보세요\n",
    "hex = hex(decimal)[2:]\n",
    "print(hex)\n"
   ]
  },
  {
   "cell_type": "code",
   "execution_count": 12,
   "metadata": {},
   "outputs": [
    {
     "name": "stdout",
     "output_type": "stream",
     "text": [
      " 0.1  0.1\n"
     ]
    }
   ],
   "source": [
    "a = 3.2 - 3.1\n",
    "b = 1.2 - 1.1\n",
    "\n",
    "#부동 소수점 값을 출력 할 때 f-string 을 활용하여 부동소수점의 정확도를 제어 할 수 있다\n",
    "num_a = f'{a : .1f}'\n",
    "num_b = f'{b : .1f}'\n",
    "\n",
    "print(num_a, num_b)"
   ]
  },
  {
   "cell_type": "code",
   "execution_count": 14,
   "metadata": {},
   "outputs": [
    {
     "name": "stdout",
     "output_type": "stream",
     "text": [
      "3.14\n",
      "3.14\n"
     ]
    }
   ],
   "source": [
    "print(314e-2)\n",
    "# 산술 연산자를 사용하여 표현식을 바꾸어보자\n",
    "print(314 * 10 ** -2)"
   ]
  },
  {
   "cell_type": "code",
   "execution_count": 19,
   "metadata": {},
   "outputs": [
    {
     "name": "stdout",
     "output_type": "stream",
     "text": [
      "        hi\n",
      "    hi    \n",
      "hi        \n"
     ]
    }
   ],
   "source": [
    "greeting = 'hi'\n",
    "print(f'{greeting : >10}')\n",
    "print(f'{greeting : ^10}')\n",
    "print(f'{greeting : <10}')\n",
    "\n"
   ]
  },
  {
   "cell_type": "code",
   "execution_count": 31,
   "metadata": {},
   "outputs": [
    {
     "name": "stdout",
     "output_type": "stream",
     "text": [
      "w\n",
      "hello\n",
      "world\n",
      "dlrow olleh\n",
      "11\n",
      "hello world\n",
      "hello world\n"
     ]
    }
   ],
   "source": [
    "greeting = \"hello world\"\n",
    "\n",
    "#1. 인덱싱 -> 알파벳 w를 출력해 보세요\n",
    "print(greeting[6])\n",
    "\n",
    "#2-1. 슬라이싱 -> hello를 출력해 보세요\n",
    "print(greeting[0:5])\n",
    "\n",
    "#2-2. 슬라이싱 -> world를 출력해 보세요\n",
    "print(greeting[6:])\n",
    "\n",
    "#2-3. 슬라이싱 -> 거꾸로 출력해 보세요\n",
    "print(greeting[::-1])\n",
    "\n",
    "#3. 내장합수를 사용해서 문자열의 길이를 출력해 보세요\n",
    "print(len(greeting))\n",
    "\n",
    "#4. for 문을 활용하여 hello world를 출력해 보세요. (2가지 방법)\n",
    "for i in range(len(greeting)):\n",
    "    print(greeting[i], end='')\n",
    "print()\n",
    "\n",
    "for i in greeting:\n",
    "    print(i, end='')\n",
    "print()"
   ]
  },
  {
   "cell_type": "code",
   "execution_count": 38,
   "metadata": {},
   "outputs": [
    {
     "name": "stdout",
     "output_type": "stream",
     "text": [
      "1 0 0 0 0 0 0 0 0 0 0 0 0 0 0 0 0 0 0 \n",
      "0 1 0 0 0 0 0 0 0 0 0 0 0 0 0 0 0 0 0 \n",
      "0 0 1 0 0 0 0 0 0 0 0 0 0 0 0 0 0 0 0 \n",
      "0 0 0 1 0 0 0 0 0 0 0 0 0 0 0 0 0 0 0 \n",
      "0 0 0 0 1 0 0 0 0 0 0 0 0 0 0 0 0 0 0 \n",
      "0 0 0 0 0 0 0 0 0 0 0 0 0 0 0 0 0 0 0 \n",
      "0 0 0 0 0 0 0 0 0 0 0 0 0 0 0 0 0 0 0 \n",
      "0 0 0 0 0 0 0 0 0 0 0 0 0 0 0 0 0 0 0 \n",
      "0 0 0 0 0 0 0 0 0 0 0 0 0 0 0 0 0 0 0 \n",
      "0 0 0 0 0 0 0 0 0 0 0 0 0 0 0 0 0 0 0 \n",
      "0 0 0 0 0 0 0 0 0 0 0 0 0 0 0 0 0 0 0 \n",
      "0 0 0 0 0 0 0 0 0 0 0 0 0 0 0 0 0 0 0 \n",
      "0 0 0 0 0 0 0 0 0 0 0 0 0 0 0 0 0 0 0 \n",
      "0 0 0 0 0 0 0 0 0 0 0 0 0 0 0 0 0 0 0 \n",
      "0 0 0 0 0 0 0 0 0 0 0 0 0 0 0 0 0 0 0 \n",
      "0 0 0 0 0 0 0 0 0 0 0 0 0 0 0 0 0 0 0 \n",
      "0 0 0 0 0 0 0 0 0 0 0 0 0 0 0 0 0 0 0 \n",
      "0 0 0 0 0 0 0 0 0 0 0 0 0 0 0 0 0 0 0 \n",
      "0 0 0 0 0 0 0 0 0 0 0 0 0 0 0 0 0 0 0 \n"
     ]
    }
   ],
   "source": [
    "# 코드업 문제 \n",
    "\n",
    "d=[]                        #대괄호 [ ] 를 이용해 아무것도 없는 빈 리스트 만들기\n",
    "for i in range(20) :\n",
    "  d.append([])         #리스트 안에 다른 리스트 추가해 넣기\n",
    "  for j in range(20) : \n",
    "    d[i].append(0)    #리스트 안에 들어있는 리스트 안에 0 추가해 넣기\n",
    "\n",
    "n = int(input())\n",
    "for i in range(n) :\n",
    "  x, y = input().split()\n",
    "  d[int(x)][int(y)] = 1\n",
    "\n",
    "for i in range(1, 20) :\n",
    "  for j in range(1, 20) : \n",
    "    print(d[i][j], end=' ')    #공백을 두고 한 줄로 출력\n",
    "  print()                          #줄 바꿈"
   ]
  },
  {
   "cell_type": "code",
   "execution_count": 42,
   "metadata": {},
   "outputs": [
    {
     "name": "stdout",
     "output_type": "stream",
     "text": [
      "0 0 0 0 0 0 0 0 0 0 0 0 0 0 0 0 0 0 0 \n",
      "0 0 0 0 0 0 0 0 0 0 0 0 0 0 0 0 0 0 0 \n",
      "0 0 0 0 0 0 0 0 0 0 0 0 0 0 0 0 0 0 0 \n",
      "0 0 0 0 0 0 0 0 0 0 0 0 0 0 0 0 0 0 0 \n",
      "0 0 0 0 0 0 0 0 0 0 0 0 0 0 0 0 0 0 0 \n",
      "0 0 0 0 0 0 0 0 0 0 0 0 0 0 0 0 0 0 0 \n",
      "0 0 0 0 0 0 0 0 0 0 0 0 0 0 0 0 0 0 0 \n",
      "0 0 0 0 0 0 0 0 0 0 0 0 0 0 0 0 0 0 0 \n",
      "0 0 0 0 0 0 0 0 0 0 0 0 0 0 0 0 0 0 0 \n",
      "0 0 0 0 0 0 0 0 0 1 0 1 0 0 0 0 0 0 0 \n",
      "0 0 0 0 0 0 0 0 0 0 0 0 0 0 0 0 0 0 0 \n",
      "0 0 0 0 0 0 0 0 0 1 0 1 0 0 0 0 0 0 0 \n",
      "0 0 0 0 0 0 0 0 0 0 0 0 0 0 0 0 0 0 0 \n",
      "0 0 0 0 0 0 0 0 0 0 0 0 0 0 0 0 0 0 0 \n",
      "0 0 0 0 0 0 0 0 0 0 0 0 0 0 0 0 0 0 0 \n",
      "0 0 0 0 0 0 0 0 0 0 0 0 0 0 0 0 0 0 0 \n",
      "0 0 0 0 0 0 0 0 0 0 0 0 0 0 0 0 0 0 0 \n",
      "0 0 0 0 0 0 0 0 0 0 0 0 0 0 0 0 0 0 0 \n",
      "0 0 0 0 0 0 0 0 0 0 0 0 0 0 0 0 0 0 0 \n"
     ]
    }
   ],
   "source": [
    "# 십자뒤집기 어려움\n",
    "\n",
    "d = []\n",
    "for _ in range(19):\n",
    "    d.append(list(map(int, input().split())))  # 바둑판 상황 입력\n",
    "\n",
    "n = int(input())  # 십자 뒤집기 횟수 입력\n",
    "\n",
    "for _ in range(n):\n",
    "    x, y = map(int, input().split())\n",
    "    for j in range(19):  # 가로줄 뒤집기\n",
    "        d[x-1][j] = 1 - d[x-1][j]\n",
    "    for i in range(19):  # 세로줄 뒤집기\n",
    "        d[i][y-1] = 1 - d[i][y-1]\n",
    "\n",
    "# 바둑판 출력\n",
    "for i in range(19):\n",
    "    for j in range(19):\n",
    "        print(d[i][j], end=' ')\n",
    "    print()"
   ]
  },
  {
   "cell_type": "code",
   "execution_count": 44,
   "metadata": {},
   "outputs": [
    {
     "name": "stdout",
     "output_type": "stream",
     "text": [
      "1 1 0 0 0 \n",
      "0 0 1 0 1 \n",
      "0 0 1 0 1 \n",
      "0 0 1 0 1 \n",
      "0 0 0 0 1 \n"
     ]
    }
   ],
   "source": [
    "\n",
    "h, w = map(int, input().split())\n",
    "n = int(input())\n",
    "\n",
    "\n",
    "board = [[0] * w for _ in range(h)]\n",
    "\n",
    "for _ in range(n):\n",
    "    l, d, x, y = map(int, input().split())\n",
    "    if d == 0:\n",
    "        for i in range(l):\n",
    "            board[x-1][y-1+i] = 1\n",
    "    else:\n",
    "        for i in range(l):\n",
    "            board[x-1+i][y-1] = 1\n",
    "\n",
    "for i in range(h):\n",
    "    for j in range(w):\n",
    "        print(board[i][j], end = ' ')\n",
    "    print()    "
   ]
  },
  {
   "cell_type": "code",
   "execution_count": 48,
   "metadata": {},
   "outputs": [
    {
     "name": "stdout",
     "output_type": "stream",
     "text": [
      "0 0 0 0 0 0 0 0 0 0\n",
      "0 0 0 0 0 0 0 0 0 0\n",
      "0 0 9 0 0 0 0 0 0 0\n",
      "0 0 9 9 9 9 9 0 0 0\n",
      "0 0 0 0 0 0 9 0 0 0\n",
      "0 0 0 0 0 0 9 0 0 0\n",
      "0 0 0 0 0 0 9 0 0 0\n",
      "0 0 0 0 0 0 9 9 9 0\n",
      "0 0 0 0 0 0 0 0 9 0\n",
      "0 0 0 0 0 0 0 0 0 0\n"
     ]
    }
   ],
   "source": [
    "h, w = 10, 10  # 미로 상자의 크기\n",
    "maze = []  # 미로 상자의 구조를 저장할 리스트\n",
    "\n",
    "# 미로 상자의 구조 입력 받기\n",
    "for _ in range(h):\n",
    "    row = list(map(int, input().split()))\n",
    "    maze.append(row)\n",
    "\n",
    "visited = [[0] * w for _ in range(h)]  # 개미의 이동 경로를 표시할 리스트\n",
    "start_x, start_y = 2, 2  # 개미의 출발 위치\n",
    "\n",
    "# 개미의 이동 경로 탐색\n",
    "while True:\n",
    "    visited[start_x][start_y] = 9  # 현재 위치를 방문했음을 표시\n",
    "\n",
    "    if start_x == h - 1 and start_y == w - 1:  # 가장 오른쪽 아래에 도착한 경우\n",
    "        break\n",
    "\n",
    "    if maze[start_x][start_y] == 2:  # 먹이를 찾은 경우\n",
    "        break\n",
    "\n",
    "    if start_y < w - 1 and maze[start_x][start_y + 1] != 1:  # 오른쪽으로 이동 가능한 경우\n",
    "        start_y += 1\n",
    "    elif start_x < h - 1 and maze[start_x + 1][start_y] != 1:  # 아래쪽으로 이동 가능한 경우\n",
    "        start_x += 1\n",
    "    else:  # 더 이상 이동할 수 없는 경우\n",
    "        break\n",
    "\n",
    "# 개미의 이동 경로 출력\n",
    "for row in visited:\n",
    "    print(' '.join(map(str, row)))"
   ]
  },
  {
   "cell_type": "code",
   "execution_count": null,
   "metadata": {},
   "outputs": [],
   "source": []
  }
 ],
 "metadata": {
  "kernelspec": {
   "display_name": "Python 3",
   "language": "python",
   "name": "python3"
  },
  "language_info": {
   "codemirror_mode": {
    "name": "ipython",
    "version": 3
   },
   "file_extension": ".py",
   "mimetype": "text/x-python",
   "name": "python",
   "nbconvert_exporter": "python",
   "pygments_lexer": "ipython3",
   "version": "3.9.13"
  },
  "orig_nbformat": 4
 },
 "nbformat": 4,
 "nbformat_minor": 2
}
