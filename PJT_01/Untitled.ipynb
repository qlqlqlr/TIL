{
 "cells": [
  {
   "cell_type": "code",
   "execution_count": null,
   "id": "d695da70-d12b-44f6-bc5d-468b5a12e25b",
   "metadata": {},
   "outputs": [],
   "source": []
  },
  {
   "cell_type": "code",
   "execution_count": null,
   "id": "81faba3e-9177-4541-bdeb-ac8f29a7ed6b",
   "metadata": {},
   "outputs": [],
   "source": []
  },
  {
   "cell_type": "code",
   "execution_count": 6,
   "id": "5c5e7ca8-20a9-41b8-89d0-dfd22e45d95c",
   "metadata": {},
   "outputs": [
    {
     "ename": "ModuleNotFoundError",
     "evalue": "No module named 'request'",
     "output_type": "error",
     "traceback": [
      "\u001b[1;31m---------------------------------------------------------------------------\u001b[0m",
      "\u001b[1;31mModuleNotFoundError\u001b[0m                       Traceback (most recent call last)",
      "Cell \u001b[1;32mIn[6], line 1\u001b[0m\n\u001b[1;32m----> 1\u001b[0m \u001b[38;5;28;01mimport\u001b[39;00m \u001b[38;5;21;01mrequest\u001b[39;00m\n",
      "\u001b[1;31mModuleNotFoundError\u001b[0m: No module named 'request'"
     ]
    }
   ],
   "source": []
  },
  {
   "cell_type": "markdown",
   "id": "77ef12a3-1ae0-43d7-aa60-e86600c3c445",
   "metadata": {},
   "source": [
    " ## y : 다시 코드모드로 변경\n",
    " ## m : 쉘 하나가 마크다운 모드로 변경\n",
    " ## a : 위에 쉘 하나 추가\n",
    " ## b : 커서 기중 아래에 쉘 하나 추가 \n",
    " ## shitf + Enter : 실행 후 커서를 아래로 이동\n",
    " ## ctrl + Enter : 실행 후 커서를 제자리에 "
   ]
  },
  {
   "cell_type": "code",
   "execution_count": 1,
   "id": "f234fdb5-9bc1-4a1a-8355-a419e6a9283a",
   "metadata": {},
   "outputs": [
    {
     "name": "stdout",
     "output_type": "stream",
     "text": [
      "test\n"
     ]
    }
   ],
   "source": [
    "print('test')"
   ]
  },
  {
   "cell_type": "code",
   "execution_count": 3,
   "id": "24dd37eb-42fa-42b8-a4b9-44ba544a1971",
   "metadata": {},
   "outputs": [],
   "source": [
    "API_key = 'be7e9dd1e9a4ec5407c8cb6854e9e7ec'"
   ]
  },
  {
   "cell_type": "code",
   "execution_count": 4,
   "id": "b4c04347-d456-43fa-a745-f059051a1e46",
   "metadata": {},
   "outputs": [],
   "source": [
    "lat = 37.56\n",
    "lon = 126.97\n",
    "url = f'https://api.openweathermap.org/data/3.0/onecall?lat={lat}&lon={lon}&appid={API_key}'"
   ]
  },
  {
   "cell_type": "code",
   "execution_count": 5,
   "id": "3318ccce-fcc8-4cb2-9816-5b2ed8b376d7",
   "metadata": {},
   "outputs": [
    {
     "ename": "NameError",
     "evalue": "name 'requests' is not defined",
     "output_type": "error",
     "traceback": [
      "\u001b[1;31m---------------------------------------------------------------------------\u001b[0m",
      "\u001b[1;31mNameError\u001b[0m                                 Traceback (most recent call last)",
      "Cell \u001b[1;32mIn[5], line 2\u001b[0m\n\u001b[0;32m      1\u001b[0m \u001b[38;5;66;03m# API 요청 보내기\u001b[39;00m\n\u001b[1;32m----> 2\u001b[0m response \u001b[38;5;241m=\u001b[39m \u001b[43mrequests\u001b[49m\u001b[38;5;241m.\u001b[39mget(url)\u001b[38;5;241m.\u001b[39mjson()\n\u001b[0;32m      3\u001b[0m response\n",
      "\u001b[1;31mNameError\u001b[0m: name 'requests' is not defined"
     ]
    }
   ],
   "source": [
    "# API 요청 보내기\n",
    "response = requests.get(url).json()\n",
    "response"
   ]
  },
  {
   "cell_type": "code",
   "execution_count": null,
   "id": "e3a3feaf-db80-433c-8855-7c2f02a57a97",
   "metadata": {},
   "outputs": [],
   "source": []
  }
 ],
 "metadata": {
  "kernelspec": {
   "display_name": "Python 3 (ipykernel)",
   "language": "python",
   "name": "python3"
  },
  "language_info": {
   "codemirror_mode": {
    "name": "ipython",
    "version": 3
   },
   "file_extension": ".py",
   "mimetype": "text/x-python",
   "name": "python",
   "nbconvert_exporter": "python",
   "pygments_lexer": "ipython3",
   "version": "3.9.13"
  }
 },
 "nbformat": 4,
 "nbformat_minor": 5
}
